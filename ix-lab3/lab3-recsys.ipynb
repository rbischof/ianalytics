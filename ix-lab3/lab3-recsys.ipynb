{
 "cells": [
  {
   "cell_type": "markdown",
   "metadata": {},
   "source": [
    "# Lab 3 — recommender systems"
   ]
  },
  {
   "cell_type": "code",
   "execution_count": 2,
   "metadata": {
    "collapsed": true
   },
   "outputs": [],
   "source": [
    "import json\n",
    "import matplotlib.pyplot as plt\n",
    "import numpy as np\n",
    "from math import sqrt\n",
    "\n",
    "import pickle\n",
    "from bokeh.plotting import figure, output_file, show, ColumnDataSource\n",
    "from bokeh.models import HoverTool\n",
    "from matplotlib.colors import rgb2hex\n",
    "\n",
    "%matplotlib inline\n",
    "plt.style.use(\"ggplot\")"
   ]
  },
  {
   "cell_type": "code",
   "execution_count": 3,
   "metadata": {
    "collapsed": true
   },
   "outputs": [],
   "source": [
    "def add(x, y):\n",
    "    return x + y"
   ]
  },
  {
   "cell_type": "markdown",
   "metadata": {},
   "source": [
    "What does the data look like?"
   ]
  },
  {
   "cell_type": "code",
   "execution_count": 4,
   "metadata": {},
   "outputs": [
    {
     "name": "stdout",
     "output_type": "stream",
     "text": [
      "{\"movieId\": 70286, \"userId\": 138493, \"timestamp\": 1258126944, \"rating\": 5.0}\r\n",
      "{\"movieId\": 71619, \"userId\": 138493, \"timestamp\": 1255811136, \"rating\": 2.5}\r\n"
     ]
    }
   ],
   "source": [
    "!hdfs dfs -cat /ix/ml-20m/ratings.txt | tail -n 2"
   ]
  },
  {
   "cell_type": "code",
   "execution_count": 5,
   "metadata": {
    "collapsed": true
   },
   "outputs": [],
   "source": [
    "data = sc.textFile(\"/ix/ml-20m/ratings.txt\").map(json.loads)"
   ]
  },
  {
   "cell_type": "markdown",
   "metadata": {
    "collapsed": true
   },
   "source": [
    "## 3.4 Basic Statistics"
   ]
  },
  {
   "cell_type": "code",
   "execution_count": 6,
   "metadata": {
    "collapsed": true
   },
   "outputs": [],
   "source": [
    "user_ratings = data.map(lambda d: (d['userId'], d['rating'])).collect()"
   ]
  },
  {
   "cell_type": "code",
   "execution_count": 38,
   "metadata": {},
   "outputs": [],
   "source": [
    "ratings_per_user = data.map(lambda d: (d['userId'], 1)).reduceByKey(add).map(lambda d: d[1]).collect()"
   ]
  },
  {
   "cell_type": "code",
   "execution_count": 39,
   "metadata": {
    "collapsed": true
   },
   "outputs": [],
   "source": [
    "ratings_per_item = data.map(lambda d: (d['movieId'], 1)).reduceByKey(add).sortByKey().map(lambda d: d[1]).collect()"
   ]
  },
  {
   "cell_type": "code",
   "execution_count": 48,
   "metadata": {},
   "outputs": [
    {
     "data": {
      "text/plain": [
       "Text(0.5,1,'Histogram of how many items have how many ratings')"
      ]
     },
     "execution_count": 48,
     "metadata": {},
     "output_type": "execute_result"
    },
    {
     "data": {
      "image/png": "[encoded data removed]",
      "text/plain": [
       "<matplotlib.figure.Figure at 0x7f9a2dd93160>"
      ]
     },
     "metadata": {},
     "output_type": "display_data"
    }
   ],
   "source": [
    "plt.figure(num=None, figsize=(14, 5))\n",
    "\n",
    "plt.subplot(1,2,1)\n",
    "plt.hist(ratings_per_user, bins=20, log=True)\n",
    "plt.xlabel(\"# of ratings\")\n",
    "plt.ylabel(\"# of users\")\n",
    "plt.title(\"Histogram of how many users have how many ratings\")\n",
    "\n",
    "plt.subplot(1,2,2)\n",
    "plt.hist(ratings_per_item, bins=20, log=True)\n",
    "plt.xlabel(\"# of ratings\")\n",
    "plt.ylabel(\"# of items\")\n",
    "plt.title(\"Histogram of how many items have how many ratings\")"
   ]
  },
  {
   "cell_type": "markdown",
   "metadata": {},
   "source": [
    "The number of ratings are clearly not balanced uniformly, since many users/items have almost no ratings, while others have a lot.\n",
    "## 3.5 Partitioning the dataset"
   ]
  },
  {
   "cell_type": "code",
   "execution_count": 21,
   "metadata": {
    "collapsed": true
   },
   "outputs": [],
   "source": [
    "with open('my-ratings.txt') as f:\n",
    "    my_ratings = sc.parallelize([json.loads(line) for line in f.read().splitlines()])"
   ]
  },
  {
   "cell_type": "code",
   "execution_count": 22,
   "metadata": {
    "collapsed": true
   },
   "outputs": [],
   "source": [
    "data = data.union(my_ratings)"
   ]
  },
  {
   "cell_type": "markdown",
   "metadata": {},
   "source": [
    "Split the data into a training and a validation set"
   ]
  },
  {
   "cell_type": "code",
   "execution_count": 23,
   "metadata": {
    "collapsed": true
   },
   "outputs": [],
   "source": [
    "training = data.filter(lambda x: (x['timestamp'] % 10) > 1).map(lambda x: (x['userId'], x['movieId'], x['rating']))\n",
    "validation = data.map(lambda x: (x['userId'], x['movieId'], x['rating'])).subtract(training).persist()"
   ]
  },
  {
   "cell_type": "code",
   "execution_count": 45,
   "metadata": {
    "collapsed": true
   },
   "outputs": [],
   "source": [
    "# function to calculate mean square error between a set of prediction and a set of validation elements\n",
    "def mserror(prediction, validation):\n",
    "    dev, count = prediction.map(lambda x: ((x[0], x[1]), x[2]))\\\n",
    "                    .join(validation.map(lambda x: ((x[0], x[1]), x[2])))\\\n",
    "                    .map(lambda x: (x[0][0], (x[1][0] - x[1][1])**2))\\\n",
    "                    .groupByKey()\\\n",
    "                    .map(lambda x: (sqrt(sum(x[1])/len(x[1])), 1))\\\n",
    "                    .reduce(lambda x, y: (x[0]+y[0], x[1]+y[1]))\n",
    "    return dev / count"
   ]
  },
  {
   "cell_type": "markdown",
   "metadata": {},
   "source": [
    "## 3.6 Baseline model"
   ]
  },
  {
   "cell_type": "code",
   "execution_count": 92,
   "metadata": {},
   "outputs": [
    {
     "name": "stdout",
     "output_type": "stream",
     "text": [
      "Global mean is 3.5255076817576816\n"
     ]
    }
   ],
   "source": [
    "global_mean = training.map(lambda x: (x[2], 1)).reduce(lambda x, y: (x[0] + y[0], x[1] + y[1]))\n",
    "global_mean = global_mean[0] / global_mean[1]\n",
    "print(\"Global mean is\", global_mean)"
   ]
  },
  {
   "cell_type": "code",
   "execution_count": 93,
   "metadata": {
    "collapsed": true
   },
   "outputs": [],
   "source": [
    "user_bias = training.map(lambda x: (x[0], x[2] - global_mean))\\\n",
    "                    .groupByKey()\\\n",
    "                    .map(lambda x: (x[0], 0 if sum(x[1]) == 0 else sum(x[1])/len(x[1])))"
   ]
  },
  {
   "cell_type": "code",
   "execution_count": 94,
   "metadata": {
    "collapsed": true
   },
   "outputs": [],
   "source": [
    "u_b_local = dict(user_bias.collect())"
   ]
  },
  {
   "cell_type": "code",
   "execution_count": 95,
   "metadata": {
    "collapsed": true
   },
   "outputs": [],
   "source": [
    "item_bias = training.map(lambda x: (x[1], x[2] - u_b_local[x[0]] - global_mean))\\\n",
    "                    .groupByKey()\\\n",
    "                    .map(lambda x: (x[0], 0 if sum(x[1]) == 0 else sum(x[1])/len(x[1])))"
   ]
  },
  {
   "cell_type": "code",
   "execution_count": 96,
   "metadata": {
    "collapsed": true
   },
   "outputs": [],
   "source": [
    "i_b_local = dict(item_bias.collect())"
   ]
  },
  {
   "cell_type": "code",
   "execution_count": 97,
   "metadata": {},
   "outputs": [
    {
     "name": "stdout",
     "output_type": "stream",
     "text": [
      "Number of parameters: 165238\n"
     ]
    }
   ],
   "source": [
    "users = data.map(lambda x: x['userId']).distinct().count()\n",
    "products = data.map(lambda x: x['movieId']).distinct().count()\n",
    "print(\"Number of parameters:\", users + products)"
   ]
  },
  {
   "cell_type": "markdown",
   "metadata": {},
   "source": [
    "Predict the rating of every user / movie pair in the validation set."
   ]
  },
  {
   "cell_type": "code",
   "execution_count": 105,
   "metadata": {
    "collapsed": true
   },
   "outputs": [],
   "source": [
    "predictions = validation.map(lambda x: (x[0], x[1], global_mean + u_b_local.get(x[0], 0) + i_b_local.get(x[1], 0)))"
   ]
  },
  {
   "cell_type": "markdown",
   "metadata": {},
   "source": [
    "## 3.7 Evaluation"
   ]
  },
  {
   "cell_type": "code",
   "execution_count": 106,
   "metadata": {},
   "outputs": [
    {
     "name": "stdout",
     "output_type": "stream",
     "text": [
      "Mean square error: 0.8683781169845344\n"
     ]
    }
   ],
   "source": [
    "baseline_error = mserror(predictions, validation)\n",
    "print(\"Mean square error:\", baseline_error)"
   ]
  },
  {
   "cell_type": "markdown",
   "metadata": {
    "collapsed": true
   },
   "source": [
    "# 3.2.2 Matrix-factorization model\n",
    "## 3.8 Regularization\n",
    "The lower the rank, the less we use the information that is actually given to us. We risk overgeneralisation.<br>\n",
    "The higher the rank, the more we assume that our data is representative for the real world. We risk overfitting.<br>\n",
    "We use the rank in between 5 and 25: 15."
   ]
  },
  {
   "cell_type": "code",
   "execution_count": 78,
   "metadata": {
    "collapsed": true
   },
   "outputs": [],
   "source": [
    "from pyspark.mllib.recommendation import ALS"
   ]
  },
  {
   "cell_type": "code",
   "execution_count": 79,
   "metadata": {
    "collapsed": true
   },
   "outputs": [],
   "source": [
    "rank = 15"
   ]
  },
  {
   "cell_type": "markdown",
   "metadata": {},
   "source": [
    "Lambda 1e-10"
   ]
  },
  {
   "cell_type": "code",
   "execution_count": 98,
   "metadata": {
    "collapsed": true
   },
   "outputs": [],
   "source": [
    "model = ALS.train(training, rank, lambda_=1e-4)"
   ]
  },
  {
   "cell_type": "code",
   "execution_count": 99,
   "metadata": {
    "collapsed": true
   },
   "outputs": [],
   "source": [
    "predictions_model = model.predictAll(validation.map(lambda x: (x[0], x[1])))"
   ]
  },
  {
   "cell_type": "code",
   "execution_count": 100,
   "metadata": {},
   "outputs": [
    {
     "name": "stdout",
     "output_type": "stream",
     "text": [
      "Mean square error with lambda 0.0001 : 0.9917269252642622\n"
     ]
    }
   ],
   "source": [
    "print(\"Mean square error with lambda\", 1e-4, \":\", mserror(predictions_model, validation))"
   ]
  },
  {
   "cell_type": "markdown",
   "metadata": {},
   "source": [
    "The error is above our baseline model error. This is clearly disappointing. We need to cross-validate lambda to find it's optimal value with our chosen rank."
   ]
  },
  {
   "cell_type": "markdown",
   "metadata": {},
   "source": [
    "Lambda = 10"
   ]
  },
  {
   "cell_type": "code",
   "execution_count": 101,
   "metadata": {
    "collapsed": true
   },
   "outputs": [],
   "source": [
    "model2 = ALS.train(training, rank, lambda_=10.0)"
   ]
  },
  {
   "cell_type": "code",
   "execution_count": 102,
   "metadata": {
    "collapsed": true
   },
   "outputs": [],
   "source": [
    "predictions_model2 = model2.predictAll(validation.map(lambda x: (x[0], x[1])))"
   ]
  },
  {
   "cell_type": "code",
   "execution_count": 103,
   "metadata": {},
   "outputs": [
    {
     "name": "stdout",
     "output_type": "stream",
     "text": [
      "Mean square error with lambda 10 : 3.746888119582086\n"
     ]
    }
   ],
   "source": [
    "print(\"Mean square error with lambda\", 10, \":\", mserror(predictions_model2, validation))"
   ]
  },
  {
   "cell_type": "markdown",
   "metadata": {},
   "source": [
    "This result is way worse than our baseline model error, so the optimal lambda must be closer to 0.0001 than to 10."
   ]
  },
  {
   "cell_type": "markdown",
   "metadata": {},
   "source": [
    "#### Find optimal lambda\n",
    "We expect the optimal lambda to be between 1e-2 and 1."
   ]
  },
  {
   "cell_type": "code",
   "execution_count": 86,
   "metadata": {
    "collapsed": true
   },
   "outputs": [],
   "source": [
    "errors = []\n",
    "for l in np.linspace(-2, 0, num=4):\n",
    "    l = 10 ** l\n",
    "    model_l = ALS.train(training, rank, lambda_=l)\n",
    "    predictions_l = model_l.predictAll(validation.map(lambda x: (x[0], x[1])))\n",
    "    errors.append(mserror(predictions_l, validation))"
   ]
  },
  {
   "cell_type": "code",
   "execution_count": 107,
   "metadata": {},
   "outputs": [
    {
     "name": "stdout",
     "output_type": "stream",
     "text": [
      "[0.8557738253335343, 0.8240759707295527, 0.8493308374347794, 1.327690605853009]\n",
      "Best lamda approx. 0.0464158883361\n",
      "Improvement of  0.044302146254981634 or 5.375978408369431 %\n"
     ]
    }
   ],
   "source": [
    "print(errors)\n",
    "l = 10**np.linspace(-2, 0, num=4)[np.argmin(errors)]\n",
    "print(\"Best lamda approx.\", l)\n",
    "print(\"Improvement of \", baseline_error - min(errors),\"or\", (baseline_error/min(errors)-1)*100,\"%\")"
   ]
  },
  {
   "cell_type": "markdown",
   "metadata": {},
   "source": [
    "## 3.9 Recommendation"
   ]
  },
  {
   "cell_type": "code",
   "execution_count": 108,
   "metadata": {
    "collapsed": true
   },
   "outputs": [],
   "source": [
    "movies = sc.textFile(\"/ix/ml-20m/movies.txt\").map(json.loads)"
   ]
  },
  {
   "cell_type": "code",
   "execution_count": 109,
   "metadata": {
    "collapsed": true
   },
   "outputs": [],
   "source": [
    "m = movies.map(lambda x: (x['movieId'], x['title'])).collectAsMap()"
   ]
  },
  {
   "cell_type": "code",
   "execution_count": 110,
   "metadata": {
    "collapsed": true
   },
   "outputs": [],
   "source": [
    "model = ALS.train(data.map(lambda x: (x['userId'], x['movieId'], x['rating'])), rank=rank, lambda_=l)"
   ]
  },
  {
   "cell_type": "code",
   "execution_count": 111,
   "metadata": {},
   "outputs": [
    {
     "name": "stdout",
     "output_type": "stream",
     "text": [
      "Jim Jefferies: Alcoholocaust (2010)\n",
      "Punk in London (1977)\n",
      "Low Life, The (1995)\n",
      "Animal Love (Tierische Liebe) (1996)\n",
      "Isadora (1968)\n",
      "Peppermint Soda (Diabolo menthe) (1977)\n",
      "Marius (1931)\n",
      "World According to Monsanto, The (monde selon Monsanto, Le) (2008)\n",
      "Autobiography of Miss Jane Pittman, The (1974)\n",
      "Outrageous Class (Hababam sinifi) (1975)\n"
     ]
    }
   ],
   "source": [
    "for u, m2, r in model.recommendProducts(123, 10):\n",
    "    print(m[m2])"
   ]
  },
  {
   "cell_type": "code",
   "execution_count": 112,
   "metadata": {},
   "outputs": [
    {
     "name": "stdout",
     "output_type": "stream",
     "text": [
      "Nine Lives of Tomas Katz, The (2000)\n",
      "Patrice O'Neal: Elephant in the Room (2011)\n",
      "Alice in Wonderland (1985)\n",
      "Crazy Class Wakes Up, The (Hababam sinifi uyaniyor) (1977)\n",
      "When Nietzsche Wept (2007)\n",
      "Spud (2010)\n",
      "Up! (1976)\n",
      "G.I. Joe: A Real American Hero (G.I. Joe: The MASS Device) (1983)\n",
      "Chameleon (Kaméleon) (2008)\n",
      "You Can't Win 'Em All (1970)\n"
     ]
    }
   ],
   "source": [
    "for u, m2, r in model.recommendProducts(138494, 10):\n",
    "    print(m[m2])"
   ]
  },
  {
   "cell_type": "markdown",
   "metadata": {},
   "source": [
    "## 3.10 Visualisation"
   ]
  },
  {
   "cell_type": "code",
   "execution_count": 113,
   "metadata": {
    "collapsed": true
   },
   "outputs": [],
   "source": [
    "selected_movies = pickle.load(open('selected-movies.pickle', 'rb'), encoding='utf-8')"
   ]
  },
  {
   "cell_type": "code",
   "execution_count": 114,
   "metadata": {
    "collapsed": true
   },
   "outputs": [],
   "source": [
    "model_vis = ALS.train(data.map(lambda x: (x['userId'], x['movieId'], x['rating'])), rank=2, lambda_=l)\n",
    "features = model_vis.productFeatures().collectAsMap()"
   ]
  },
  {
   "cell_type": "code",
   "execution_count": 115,
   "metadata": {
    "collapsed": true
   },
   "outputs": [],
   "source": [
    "d = dict(x=[], y=[], name=[], score=[], color=[])\n",
    "\n",
    "for m in selected_movies:\n",
    "    coords = features[m[0]]\n",
    "    d['x'].append(coords[0])\n",
    "    d['y'].append(coords[1])\n",
    "    d['name'].append(m[1])\n",
    "    d['score'].append(m[2])\n",
    "    d['color'].append(rgb2hex(plt.get_cmap('RdYlGn')(m[2])[:3]))\n",
    "    \n",
    "src = ColumnDataSource(d)\n",
    "hover = HoverTool(\n",
    "        tooltips=[\n",
    "            (\"name\", \"@name\"),\n",
    "            (\"RT score\",\"@score\"),\n",
    "        ]\n",
    "    )\n",
    "\n",
    "p = figure(tools=[hover], title=\"Movie plotted onto 2 principal directions\", \n",
    "           x_axis_label='Quality (good -> bad)',y_axis_label='Romance (little -> a lot)')\n",
    "\n",
    "p.circle('x', 'y', size=20, source=src, color='color')\n",
    "output_file(\"recsys.html\")\n",
    "\n",
    "show(p)"
   ]
  },
  {
   "cell_type": "code",
   "execution_count": 49,
   "metadata": {},
   "outputs": [
    {
     "data": {
      "text/html": [
       "\n",
       "<!DOCTYPE html>\n",
       "<html lang=\"en\">\n",
       "    <head>\n",
       "        <meta charset=\"utf-8\">\n",
       "        <title>Bokeh Plot</title>\n",
       "        \n",
       "<link rel=\"stylesheet\" href=\"https://cdn.pydata.org/bokeh/release/bokeh-0.12.10.min.css\" type=\"text/css\" />\n",
       "        \n",
       "<script type=\"text/javascript\" src=\"https://cdn.pydata.org/bokeh/release/bokeh-0.12.10.min.js\"></script>\n",
       "<script type=\"text/javascript\">\n",
       "    Bokeh.set_log_level(\"info\");\n",
       "</script>\n",
       "        <style>\n",
       "          html {\n",
       "            width: 100%;\n",
       "            height: 100%;\n",
       "          }\n",
       "          body {\n",
       "            width: 90%;\n",
       "            height: 100%;\n",
       "            margin: auto;\n",
       "          }\n",
       "        </style>\n",
       "    </head>\n",
       "    <body>\n",
       "        \n",
       "        <div class=\"bk-root\">\n",
       "            <div class=\"bk-plotdiv\" id=\"517f1e23-e485-40d9-8fe5-b987f895e461\"></div>\n",
       "        </div>\n",
       "        \n",
       "        <script type=\"text/javascript\">\n",
       "            (function() {\n",
       "          var fn = function() {\n",
       "            Bokeh.safely(function() {\n",
       "              (function(root) {\n",
       "                function embed_document(root) {\n",
       "                  var docs_json = {\"4b3cdb87-51bb-45f9-b21a-cf4c5a77b260\":{\"roots\":{\"references\":[{\"attributes\":{\"active_drag\":\"auto\",\"active_inspect\":\"auto\",\"active_scroll\":\"auto\",\"active_tap\":\"auto\",\"tools\":[{\"id\":\"810908bc-a5c8-40df-9cbe-ea56d5c5ab78\",\"type\":\"HoverTool\"}]},\"id\":\"22e8c209-a37c-471a-87fd-e8a7872dfb0e\",\"type\":\"Toolbar\"},{\"attributes\":{\"callback\":null},\"id\":\"c0386947-b1f3-453a-a1fb-a2604c669b00\",\"type\":\"DataRange1d\"},{\"attributes\":{\"fill_alpha\":{\"value\":0.1},\"fill_color\":{\"value\":\"#1f77b4\"},\"line_alpha\":{\"value\":0.1},\"line_color\":{\"value\":\"#1f77b4\"},\"size\":{\"units\":\"screen\",\"value\":20},\"x\":{\"field\":\"x\"},\"y\":{\"field\":\"y\"}},\"id\":\"6e424a87-2376-4529-afb8-20be2a105f67\",\"type\":\"Circle\"},{\"attributes\":{\"source\":{\"id\":\"2078195e-ee63-4443-b871-02279c3ee47f\",\"type\":\"ColumnDataSource\"}},\"id\":\"a3c09896-82d5-46f1-b0db-23d02e0f177d\",\"type\":\"CDSView\"},{\"attributes\":{\"fill_color\":{\"field\":\"color\"},\"line_color\":{\"field\":\"color\"},\"size\":{\"units\":\"screen\",\"value\":20},\"x\":{\"field\":\"x\"},\"y\":{\"field\":\"y\"}},\"id\":\"8d8d6eca-43c6-4a4d-a532-160ea19585c3\",\"type\":\"Circle\"},{\"attributes\":{\"below\":[{\"id\":\"8a9dd5fb-86f2-458d-a741-76febd2ec4e9\",\"type\":\"LinearAxis\"}],\"left\":[{\"id\":\"24fbcee4-96e7-4f31-9d72-2cdfb310615a\",\"type\":\"LinearAxis\"}],\"renderers\":[{\"id\":\"8a9dd5fb-86f2-458d-a741-76febd2ec4e9\",\"type\":\"LinearAxis\"},{\"id\":\"1d4df2a6-74b6-4780-9726-cfe197d3c038\",\"type\":\"Grid\"},{\"id\":\"24fbcee4-96e7-4f31-9d72-2cdfb310615a\",\"type\":\"LinearAxis\"},{\"id\":\"b33c5dd3-d94f-483b-86eb-c73d2389557e\",\"type\":\"Grid\"},{\"id\":\"50602b21-b6eb-44eb-b694-7f8738320ed3\",\"type\":\"GlyphRenderer\"}],\"title\":{\"id\":\"46583e81-3ddc-4600-a93b-32ef3947e6ea\",\"type\":\"Title\"},\"toolbar\":{\"id\":\"22e8c209-a37c-471a-87fd-e8a7872dfb0e\",\"type\":\"Toolbar\"},\"x_range\":{\"id\":\"c0386947-b1f3-453a-a1fb-a2604c669b00\",\"type\":\"DataRange1d\"},\"x_scale\":{\"id\":\"d35dae17-1d8e-489d-80d8-d21aeadef53a\",\"type\":\"LinearScale\"},\"y_range\":{\"id\":\"318de610-7e50-4a86-a47d-833fb53f2204\",\"type\":\"DataRange1d\"},\"y_scale\":{\"id\":\"80f80abb-2bb8-4572-b165-7f553a2c205a\",\"type\":\"LinearScale\"}},\"id\":\"65652bf7-4b4a-4e40-a78c-2130824609d7\",\"subtype\":\"Figure\",\"type\":\"Plot\"},{\"attributes\":{\"axis_label\":\"Quality (good -> bad)\",\"formatter\":{\"id\":\"eebd0d6d-772a-4531-975d-2432929a49ee\",\"type\":\"BasicTickFormatter\"},\"plot\":{\"id\":\"65652bf7-4b4a-4e40-a78c-2130824609d7\",\"subtype\":\"Figure\",\"type\":\"Plot\"},\"ticker\":{\"id\":\"fd2987e9-990d-4759-94b8-016d8614b94c\",\"type\":\"BasicTicker\"}},\"id\":\"8a9dd5fb-86f2-458d-a741-76febd2ec4e9\",\"type\":\"LinearAxis\"},{\"attributes\":{},\"id\":\"e0f024d6-b064-445e-b112-ef4e62d0c41d\",\"type\":\"BasicTickFormatter\"},{\"attributes\":{\"dimension\":1,\"plot\":{\"id\":\"65652bf7-4b4a-4e40-a78c-2130824609d7\",\"subtype\":\"Figure\",\"type\":\"Plot\"},\"ticker\":{\"id\":\"dfaaac9f-d874-4138-bc68-22ee058a83cd\",\"type\":\"BasicTicker\"}},\"id\":\"b33c5dd3-d94f-483b-86eb-c73d2389557e\",\"type\":\"Grid\"},{\"attributes\":{\"callback\":null,\"column_names\":[\"x\",\"y\",\"name\",\"score\",\"color\"],\"data\":{\"color\":[\"#d9ef8b\",\"#219c52\",\"#30a356\",\"#17934e\",\"#4eb15d\",\"#0c7f43\",\"#30a356\",\"#e54e35\",\"#e0422f\",\"#3faa59\",\"#73c264\",\"#3faa59\",\"#148e4b\",\"#118848\",\"#118848\",\"#fff6b0\",\"#0a7b41\",\"#6bbf64\",\"#eb5a3a\",\"#279f53\",\"#199750\",\"#fdc372\",\"#5db961\",\"#006837\",\"#17934e\",\"#98d368\",\"#0c7f43\",\"#66bd63\",\"#afdd70\",\"#c5e67e\",\"#05713c\",\"#fbfdba\",\"#0c7f43\",\"#b5df74\",\"#4eb15d\",\"#279f53\",\"#d9ef8b\"],\"name\":[\"Independence Day (a.k.a. ID4) (1996)\",\"Spider-Man (2002)\",\"Matrix, The (1999)\",\"Shawshank Redemption, The (1994)\",\"American History X (1998)\",\"Wild Strawberries (Smultronst\\u00e4llet) (1957)\",\"Control (2007)\",\"Miss Congeniality 2: Armed and Fabulous (2005)\",\"Just My Luck (2006)\",\"Santa Sangre (1989)\",\"Videodrome (1983)\",\"Billy Elliot (2000)\",\"Pride (2014)\",\"Jurassic Park (1993)\",\"Star Wars: Episode IV - A New Hope (1977)\",\"Princess Diaries, The (2001)\",\"Schindler's List (1993)\",\"Fight Club (1999)\",\"New York Ripper, The (Squartatore di New York, Lo) (1982)\",\"American Beauty (1999)\",\"City of God (Cidade de Deus) (2002)\",\"Battleship (2012)\",\"Take Care of My Cat (Goyangileul butaghae) (2001)\",\"Terminator, The (1984)\",\"Edge of Tomorrow (2014)\",\"Forrest Gump (1994)\",\"King's Speech, The (2010)\",\"Life Is Beautiful (La Vita \\u00e8 bella) (1997)\",\"Stage Fright (Deliria) (1987)\",\"Ichi the Killer (Koroshiya 1) (2001)\",\"Brazil (1985)\",\"Fountain, The (2006)\",\"Accused, The (1988)\",\"Time to Kill, A (1996)\",\"Ghost Writer, The (2010)\",\"Superbad (2007)\",\"American Pie (1999)\"],\"score\":[0.6,0.89,0.87,0.91,0.83,0.95,0.87,0.15,0.13,0.85,0.78,0.85,0.92,0.93,0.93,0.47,0.96,0.79,0.17,0.88,0.9,0.34,0.81,1.0,0.91,0.72,0.95,0.8,0.68,0.64,0.98,0.51,0.95,0.67,0.83,0.88,0.6],\"x\":[-0.6816728711128235,-1.0316436290740967,-1.374525547027588,-1.485697627067566,-1.4760860204696655,-1.675524353981018,-1.545223593711853,-0.30792659521102905,-0.31733107566833496,-1.5899786949157715,-1.5063711404800415,-1.4081634283065796,-1.612339735031128,-0.9848570823669434,-1.3817957639694214,-0.6158039569854736,-1.4924402236938477,-1.5684492588043213,-1.0761288404464722,-1.6133253574371338,-1.6337699890136719,-0.39681464433670044,-1.5311634540557861,-1.28412663936615,-1.203835368156433,-1.1762906312942505,-1.4097669124603271,-1.448185920715332,-1.3983402252197266,-1.3877938985824585,-1.6645697355270386,-1.4357402324676514,-1.3366886377334595,-0.9750934839248657,-1.3843474388122559,-1.2863739728927612,-0.856559157371521],\"y\":[-1.3885873556137085,-0.9982802271842957,-0.8075560331344604,-0.7960630655288696,-0.588728129863739,-0.005901660304516554,-0.15478041768074036,-1.3794224262237549,-1.4509201049804688,0.2810516953468323,-0.028302567079663277,-0.44991788268089294,-0.17606350779533386,-1.0866789817810059,-0.7774166464805603,-1.3258002996444702,-0.6760165095329285,-0.4482354521751404,-0.5194655656814575,-0.25438979268074036,-0.30269041657447815,-1.4969902038574219,0.004668800625950098,-0.748233437538147,-0.938566267490387,-1.0314216613769531,-0.6520203351974487,-0.6630516648292542,0.1078898087143898,-0.1866876631975174,0.08000868558883667,-0.23589615523815155,-0.5658412575721741,-1.0958784818649292,-0.43976953625679016,-0.6904453039169312,-1.1401623487472534]}},\"id\":\"2078195e-ee63-4443-b871-02279c3ee47f\",\"type\":\"ColumnDataSource\"},{\"attributes\":{},\"id\":\"eebd0d6d-772a-4531-975d-2432929a49ee\",\"type\":\"BasicTickFormatter\"},{\"attributes\":{},\"id\":\"d35dae17-1d8e-489d-80d8-d21aeadef53a\",\"type\":\"LinearScale\"},{\"attributes\":{\"callback\":null,\"tooltips\":[[\"name\",\"@name\"],[\"RT score\",\"@score\"]]},\"id\":\"810908bc-a5c8-40df-9cbe-ea56d5c5ab78\",\"type\":\"HoverTool\"},{\"attributes\":{\"data_source\":{\"id\":\"2078195e-ee63-4443-b871-02279c3ee47f\",\"type\":\"ColumnDataSource\"},\"glyph\":{\"id\":\"8d8d6eca-43c6-4a4d-a532-160ea19585c3\",\"type\":\"Circle\"},\"hover_glyph\":null,\"muted_glyph\":null,\"nonselection_glyph\":{\"id\":\"6e424a87-2376-4529-afb8-20be2a105f67\",\"type\":\"Circle\"},\"selection_glyph\":null,\"view\":{\"id\":\"a3c09896-82d5-46f1-b0db-23d02e0f177d\",\"type\":\"CDSView\"}},\"id\":\"50602b21-b6eb-44eb-b694-7f8738320ed3\",\"type\":\"GlyphRenderer\"},{\"attributes\":{\"plot\":null,\"text\":\"Movie plotted onto 2 principal directions\"},\"id\":\"46583e81-3ddc-4600-a93b-32ef3947e6ea\",\"type\":\"Title\"},{\"attributes\":{\"plot\":{\"id\":\"65652bf7-4b4a-4e40-a78c-2130824609d7\",\"subtype\":\"Figure\",\"type\":\"Plot\"},\"ticker\":{\"id\":\"fd2987e9-990d-4759-94b8-016d8614b94c\",\"type\":\"BasicTicker\"}},\"id\":\"1d4df2a6-74b6-4780-9726-cfe197d3c038\",\"type\":\"Grid\"},{\"attributes\":{\"callback\":null},\"id\":\"318de610-7e50-4a86-a47d-833fb53f2204\",\"type\":\"DataRange1d\"},{\"attributes\":{},\"id\":\"dfaaac9f-d874-4138-bc68-22ee058a83cd\",\"type\":\"BasicTicker\"},{\"attributes\":{},\"id\":\"fd2987e9-990d-4759-94b8-016d8614b94c\",\"type\":\"BasicTicker\"},{\"attributes\":{\"axis_label\":\"Romance (little -> a lot)\",\"formatter\":{\"id\":\"e0f024d6-b064-445e-b112-ef4e62d0c41d\",\"type\":\"BasicTickFormatter\"},\"plot\":{\"id\":\"65652bf7-4b4a-4e40-a78c-2130824609d7\",\"subtype\":\"Figure\",\"type\":\"Plot\"},\"ticker\":{\"id\":\"dfaaac9f-d874-4138-bc68-22ee058a83cd\",\"type\":\"BasicTicker\"}},\"id\":\"24fbcee4-96e7-4f31-9d72-2cdfb310615a\",\"type\":\"LinearAxis\"},{\"attributes\":{},\"id\":\"80f80abb-2bb8-4572-b165-7f553a2c205a\",\"type\":\"LinearScale\"}],\"root_ids\":[\"65652bf7-4b4a-4e40-a78c-2130824609d7\"]},\"title\":\"Bokeh Application\",\"version\":\"0.12.10\"}};\n",
       "                  var render_items = [{\"docid\":\"4b3cdb87-51bb-45f9-b21a-cf4c5a77b260\",\"elementid\":\"517f1e23-e485-40d9-8fe5-b987f895e461\",\"modelid\":\"65652bf7-4b4a-4e40-a78c-2130824609d7\"}];\n",
       "              \n",
       "                  root.Bokeh.embed.embed_items(docs_json, render_items);\n",
       "                }\n",
       "              \n",
       "                if (root.Bokeh !== undefined) {\n",
       "                  embed_document(root);\n",
       "                } else {\n",
       "                  var attempts = 0;\n",
       "                  var timer = setInterval(function(root) {\n",
       "                    if (root.Bokeh !== undefined) {\n",
       "                      embed_document(root);\n",
       "                      clearInterval(timer);\n",
       "                    }\n",
       "                    attempts++;\n",
       "                    if (attempts > 100) {\n",
       "                      console.log(\"Bokeh: ERROR: Unable to embed document because BokehJS library is missing\")\n",
       "                      clearInterval(timer);\n",
       "                    }\n",
       "                  }, 10, root)\n",
       "                }\n",
       "              })(window);\n",
       "            });\n",
       "          };\n",
       "          if (document.readyState != \"loading\") fn();\n",
       "          else document.addEventListener(\"DOMContentLoaded\", fn);\n",
       "        })();\n",
       "        \n",
       "        </script>\n",
       "    </body>\n",
       "</html>"
      ],
      "text/plain": [
       "<IPython.core.display.HTML object>"
      ]
     },
     "execution_count": 49,
     "metadata": {},
     "output_type": "execute_result"
    }
   ],
   "source": [
    "import IPython\n",
    "IPython.display.HTML(filename=\"recsys.html\")"
   ]
  },
  {
   "cell_type": "markdown",
   "metadata": {
    "collapsed": true
   },
   "source": [
    "### Clusters\n",
    "There are some clusters of movies that can really be called alike:<br>\n",
    "The cluster in the center left consisting of movies like Star Wars, Matrix, Terminator and so on are very similar in their main plots.<br>\n",
    "In the top left, there is a cluster of dramas.<br>\n",
    "The bottom right does not make any sense however, apart from all movies being rated fairly bad."
   ]
  },
  {
   "cell_type": "code",
   "execution_count": null,
   "metadata": {
    "collapsed": true
   },
   "outputs": [],
   "source": []
  }
 ],
 "metadata": {
  "anaconda-cloud": {},
  "kernelspec": {
   "display_name": "Python 3",
   "language": "python",
   "name": "python3"
  },
  "language_info": {
   "codemirror_mode": {
    "name": "ipython",
    "version": 3
   },
   "file_extension": ".py",
   "mimetype": "text/x-python",
   "name": "python",
   "nbconvert_exporter": "python",
   "pygments_lexer": "ipython3",
   "version": "3.6.3"
  }
 },
 "nbformat": 4,
 "nbformat_minor": 1
}
