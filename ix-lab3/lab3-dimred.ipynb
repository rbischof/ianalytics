{
 "cells": [
  {
   "cell_type": "markdown",
   "metadata": {},
   "source": [
    "# Lab 3 — dimensionality reduction"
   ]
  },
  {
   "cell_type": "code",
   "execution_count": 65,
   "metadata": {
    "collapsed": true
   },
   "outputs": [],
   "source": [
    "import json\n",
    "import matplotlib.pyplot as plt\n",
    "import numpy as np\n",
    "import pickle\n",
    "\n",
    "from operator import itemgetter\n",
    "\n",
    "%matplotlib inline\n",
    "plt.style.use(\"ggplot\")"
   ]
  },
  {
   "cell_type": "code",
   "execution_count": 66,
   "metadata": {
    "collapsed": true
   },
   "outputs": [],
   "source": [
    "from bokeh.plotting import figure, output_file, show"
   ]
  },
  {
   "cell_type": "markdown",
   "metadata": {},
   "source": [
    "movies -> movieId, title, [genre]\n",
    "tags -> tagId, tag\n",
    "scores -> (movieId, tagId), relevance"
   ]
  },
  {
   "cell_type": "code",
   "execution_count": 4,
   "metadata": {
    "collapsed": true
   },
   "outputs": [],
   "source": [
    "movies = sc.textFile(\"/ix/ml-20m/movies.txt\").map(json.loads)\n",
    "tags = sc.textFile(\"/ix/ml-20m/genome-tags.txt\").map(json.loads)\n",
    "scores = sc.textFile(\"/ix/ml-20m/genome-scores.txt\").map(json.loads)\n",
    "ratings = sc.textFile(\"/ix/ml-20m/ratings.txt\").map(json.loads)"
   ]
  },
  {
   "cell_type": "code",
   "execution_count": 5,
   "metadata": {
    "collapsed": true
   },
   "outputs": [],
   "source": [
    "tags_local = tags.collect()"
   ]
  },
  {
   "cell_type": "code",
   "execution_count": null,
   "metadata": {
    "collapsed": true
   },
   "outputs": [],
   "source": [
    "# print('Number of movies:', movies.count())\n",
    "# print('Number of tags:', tags.count())\n",
    "# print('Number of scores:', scores.count())\n",
    "# print('Number of ratings:', ratings.count())"
   ]
  },
  {
   "cell_type": "markdown",
   "metadata": {},
   "source": [
    "Construct MxN matrix, where N=1128 - tagId, M=10381 - movieId with at least one tag"
   ]
  },
  {
   "cell_type": "code",
   "execution_count": 7,
   "metadata": {
    "collapsed": true
   },
   "outputs": [],
   "source": [
    "sorted_scores = scores.map(lambda x: (x['movieId'], (x['tagId'], x['relevance']))).groupByKey().sortByKey()"
   ]
  },
  {
   "cell_type": "markdown",
   "metadata": {},
   "source": [
    "M:"
   ]
  },
  {
   "cell_type": "code",
   "execution_count": 8,
   "metadata": {
    "collapsed": true
   },
   "outputs": [],
   "source": [
    "matrix = np.zeros((tags.count(), sorted_scores.count()))"
   ]
  },
  {
   "cell_type": "code",
   "execution_count": 9,
   "metadata": {},
   "outputs": [
    {
     "data": {
      "text/plain": [
       "(1128, 10381)"
      ]
     },
     "execution_count": 9,
     "metadata": {},
     "output_type": "execute_result"
    }
   ],
   "source": [
    "matrix.shape"
   ]
  },
  {
   "cell_type": "code",
   "execution_count": 10,
   "metadata": {
    "collapsed": true
   },
   "outputs": [],
   "source": [
    "s = sorted_scores.collect()"
   ]
  },
  {
   "cell_type": "code",
   "execution_count": 11,
   "metadata": {
    "collapsed": true
   },
   "outputs": [],
   "source": [
    "for i in range(len(s)):\n",
    "    for j,r in s[i][1]:\n",
    "        matrix[j-1][i] = r"
   ]
  },
  {
   "cell_type": "code",
   "execution_count": 12,
   "metadata": {},
   "outputs": [
    {
     "name": "stdout",
     "output_type": "stream",
     "text": [
      "[[ 0.025    0.03975  0.0435  ...,  0.042    0.05975  0.05325]\n",
      " [ 0.025    0.04375  0.05475 ...,  0.03175  0.10375  0.08625]\n",
      " [ 0.05775  0.03775  0.028   ...,  0.017    0.1785   0.017  ]\n",
      " ..., \n",
      " [ 0.03625  0.01475  0.0195  ...,  0.0095   0.51925  0.01575]\n",
      " [ 0.07775  0.09025  0.097   ...,  0.0755   0.067    0.1145 ]\n",
      " [ 0.023    0.01875  0.0185  ...,  0.01625  0.01725  0.02175]]\n"
     ]
    }
   ],
   "source": [
    "print(matrix)"
   ]
  },
  {
   "cell_type": "code",
   "execution_count": 13,
   "metadata": {},
   "outputs": [
    {
     "data": {
      "text/plain": [
       "[<matplotlib.lines.Line2D at 0x7f32275ff198>]"
      ]
     },
     "execution_count": 13,
     "metadata": {},
     "output_type": "execute_result"
    },
    {
     "data": {
      "image/png": "[encoded data removed]",
      "text/plain": [
       "<matplotlib.figure.Figure at 0x7f322f495438>"
      ]
     },
     "metadata": {},
     "output_type": "display_data"
    }
   ],
   "source": [
    "plt.plot(np.var(matrix, axis=1))"
   ]
  },
  {
   "cell_type": "code",
   "execution_count": 14,
   "metadata": {},
   "outputs": [
    {
     "data": {
      "text/plain": [
       "(1128, 1128)"
      ]
     },
     "execution_count": 14,
     "metadata": {},
     "output_type": "execute_result"
    }
   ],
   "source": [
    "matrixCov = np.cov(matrix)\n",
    "matrixCov.shape"
   ]
  },
  {
   "cell_type": "code",
   "execution_count": 29,
   "metadata": {},
   "outputs": [],
   "source": [
    "w, v = np.linalg.eigh(matrixCov)\n",
    "# help(np.linalg.eigh)"
   ]
  },
  {
   "cell_type": "code",
   "execution_count": 16,
   "metadata": {},
   "outputs": [
    {
     "data": {
      "text/plain": [
       "[<matplotlib.lines.Line2D at 0x7f32275f7ef0>]"
      ]
     },
     "execution_count": 16,
     "metadata": {},
     "output_type": "execute_result"
    },
    {
     "data": {
      "image/png": "[encoded data removed]",
      "text/plain": [
       "<matplotlib.figure.Figure at 0x7f322763e9b0>"
      ]
     },
     "metadata": {},
     "output_type": "display_data"
    }
   ],
   "source": [
    "w_p = w.real.tolist()\n",
    "w_p.reverse()\n",
    "w_p /= w.real.sum()\n",
    "plt.loglog(w_p)"
   ]
  },
  {
   "cell_type": "markdown",
   "metadata": {
    "collapsed": true
   },
   "source": [
    "Dimensionality reduction aims at explaining data by looking only at parts of it. To accurately classify the data, we need to look at the relations that give us the most information. In this case, the importance of relations is given in the eigenvalues of the covariance matrix. "
   ]
  },
  {
   "cell_type": "code",
   "execution_count": 17,
   "metadata": {},
   "outputs": [
    {
     "name": "stdout",
     "output_type": "stream",
     "text": [
      "Principal components to capture 2/3: 37\n"
     ]
    }
   ],
   "source": [
    "w_c = np.cumsum(w_p)\n",
    "print('Principal components to capture 2/3:', len(w_c[w_c <= 2/3])+1)"
   ]
  },
  {
   "cell_type": "code",
   "execution_count": 18,
   "metadata": {
    "collapsed": true
   },
   "outputs": [],
   "source": [
    "top_eigvecs = v[:-6:-1]"
   ]
  },
  {
   "cell_type": "markdown",
   "metadata": {},
   "source": [
    "## 3.2 Concept Space"
   ]
  },
  {
   "cell_type": "code",
   "execution_count": 45,
   "metadata": {},
   "outputs": [
    {
     "name": "stdout",
     "output_type": "stream",
     "text": [
      "Top Eigenvectors length 5\n",
      "1128\n",
      "0.000593969720919 {'tagId': 1, 'tag': '007'}\n",
      "1128\n",
      "-0.0022866200602 {'tagId': 1, 'tag': '007'}\n",
      "1128\n",
      "0.000935658210135 {'tagId': 1, 'tag': '007'}\n",
      "1128\n",
      "0.00381772624866 {'tagId': 1, 'tag': '007'}\n",
      "1128\n",
      "0.00427381072868 {'tagId': 1, 'tag': '007'}\n"
     ]
    }
   ],
   "source": [
    "print(\"Top Eigenvectors length\", len(top_eigvecs))\n",
    "i = 0\n",
    "for vec in top_eigvecs:\n",
    "    print(len(vec))\n",
    "    print(vec[i], tags_local[i])"
   ]
  },
  {
   "cell_type": "code",
   "execution_count": 34,
   "metadata": {},
   "outputs": [
    {
     "name": "stdout",
     "output_type": "stream",
     "text": [
      "[ 0.00059397 -0.01100711 -0.00067457 ..., -0.01634403 -0.00551606\n",
      " -0.00137267] 1128\n"
     ]
    }
   ],
   "source": [
    "# for vec in top_eigvecs:\n",
    "print(top_eigvecs[0], len(top_eigvecs[0]))"
   ]
  },
  {
   "cell_type": "code",
   "execution_count": 19,
   "metadata": {},
   "outputs": [
    {
     "name": "stdout",
     "output_type": "stream",
     "text": [
      "Eigenvector 1\n",
      "Top tags\n",
      "art house, bad ending, atmospheric, bad acting, suspense, arnold, artificial intelligence, snakes, business, spaghetti western, \n",
      "Low tags\n",
      "atheism, based on a play, bad, awesome soundtrack, propaganda, san francisco, best of 2005, caper, beautiful, author:neil gaiman, \n",
      "\n",
      "Eigenvector 2\n",
      "Top tags\n",
      "atheism, bad, based on a play, awesome soundtrack, author:neil gaiman, beautiful, australia, circus, best of 2005, based on a book, \n",
      "Low tags\n",
      "art house, bad ending, atmospheric, bad acting, author:alan moore, arnold, assassins, argentina, artificial intelligence, boring!, \n",
      "\n",
      "Eigenvector 3\n",
      "Top tags\n",
      "assassination, astronauts, bad cgi, bad script, autism, ballet, based on a video game, assassins, wilderness, based on comic, \n",
      "Low tags\n",
      "bad ending, bad acting, bad science, australian, atmospheric, awesome soundtrack, awesome, author:alan moore, wedding, artistic, \n",
      "\n",
      "Eigenvector 4\n",
      "Top tags\n",
      "colourful, chicago, depressing, cool, entertaining, fun movie, computer animation, computer game, dark humor, book, \n",
      "Low tags\n",
      "confrontational, coming-of-age, cuba, doctors, con artists, cute!, dance, confusing, dinosaurs, espionage, \n",
      "\n",
      "Eigenvector 5\n",
      "Top tags\n",
      "dinosaurs, depressing, college, crime, dark hero, comic book, dc comics, chicago, downbeat, death penalty, \n",
      "Low tags\n",
      "cult, dark, dystopic future, computer animation, cult classic, cyberpunk, doctors, clones, drug addiction, disturbing, \n",
      "\n"
     ]
    }
   ],
   "source": [
    "k = 1\n",
    "for vec in top_eigvecs:\n",
    "    print('Eigenvector', k)\n",
    "    ix = np.argsort(vec)\n",
    "    print('Top tags')\n",
    "    for i in ix[:10]:\n",
    "        print(tags_local[i+1]['tag'], end=', ')\n",
    "    print('\\nLow tags')\n",
    "    for i in ix[:-11:-1]:\n",
    "        print(tags_local[i+1]['tag'], end=', ')\n",
    "    print('\\n')\n",
    "    k += 1"
   ]
  },
  {
   "cell_type": "code",
   "execution_count": 85,
   "metadata": {},
   "outputs": [],
   "source": [
    "dictionary = {}\n",
    "for i in range(len(top_eigvecs[0])):\n",
    "    dirs = []\n",
    "    for vec in top_eigvecs:\n",
    "        dirs.append(vec[i])\n",
    "    dictionary[tags_local[i]['tag']] = dirs"
   ]
  },
  {
   "cell_type": "code",
   "execution_count": 93,
   "metadata": {},
   "outputs": [],
   "source": [
    "tagID_princ_coord = {}\n",
    "for i in range(len(top_eigvecs[0])):\n",
    "    dirs = []\n",
    "    for vec in top_eigvecs:\n",
    "        dirs.append(vec[i])\n",
    "    tagID_princ_coord[tags_local[i]['tagId']] = dirs"
   ]
  },
  {
   "cell_type": "code",
   "execution_count": 64,
   "metadata": {},
   "outputs": [],
   "source": [
    "filename = 'arrrrr.txt'\n",
    "filepickle = 'arrrrr.pickle'\n",
    "# with open(filename, 'w') as file:\n",
    "#     file.write(json.dumps(dict))\n",
    "    \n",
    "pickle.dump(dictionary, open(filepickle, 'wb'))"
   ]
  },
  {
   "cell_type": "markdown",
   "metadata": {},
   "source": [
    "## 3.3 Movie visualization"
   ]
  },
  {
   "cell_type": "code",
   "execution_count": 70,
   "metadata": {
    "collapsed": true
   },
   "outputs": [],
   "source": [
    "with open('selected-movies.pickle', 'rb') as handle:\n",
    "    selection = pickle.load(handle, encoding='utf-8') # encoding='latin1'"
   ]
  },
  {
   "cell_type": "code",
   "execution_count": 73,
   "metadata": {},
   "outputs": [
    {
     "data": {
      "text/plain": [
       "((780, 'Independence Day (a.k.a. ID4) (1996)', 0.6),\n",
       " (5349, 'Spider-Man (2002)', 0.89),\n",
       " (2571, 'Matrix, The (1999)', 0.87),\n",
       " (318, 'Shawshank Redemption, The (1994)', 0.91),\n",
       " (2329, 'American History X (1998)', 0.83))"
      ]
     },
     "execution_count": 73,
     "metadata": {},
     "output_type": "execute_result"
    }
   ],
   "source": [
    "selection[:5]"
   ]
  },
  {
   "cell_type": "code",
   "execution_count": 91,
   "metadata": {},
   "outputs": [
    {
     "name": "stdout",
     "output_type": "stream",
     "text": [
      "780\n",
      "[-0.018660264882695798, -0.0274954834277257, -0.0032538577870359011, 0.017814509421962558, -0.025798888762439527]\n",
      "5349\n"
     ]
    },
    {
     "ename": "KeyError",
     "evalue": "5349",
     "output_type": "error",
     "traceback": [
      "\u001b[0;31m---------------------------------------------------------------------------\u001b[0m",
      "\u001b[0;31mKeyError\u001b[0m                                  Traceback (most recent call last)",
      "\u001b[0;32m<ipython-input-91-9150b1080095>\u001b[0m in \u001b[0;36m<module>\u001b[0;34m()\u001b[0m\n\u001b[1;32m      6\u001b[0m     \u001b[0mprint\u001b[0m\u001b[0;34m(\u001b[0m\u001b[0mmovie\u001b[0m\u001b[0;34m[\u001b[0m\u001b[0;36m0\u001b[0m\u001b[0;34m]\u001b[0m\u001b[0;34m)\u001b[0m\u001b[0;34m\u001b[0m\u001b[0m\n\u001b[1;32m      7\u001b[0m \u001b[0;31m#     print(tagID_princ_coord)\u001b[0m\u001b[0;34m\u001b[0m\u001b[0;34m\u001b[0m\u001b[0m\n\u001b[0;32m----> 8\u001b[0;31m     \u001b[0mprincipal_coord\u001b[0m \u001b[0;34m=\u001b[0m \u001b[0mtagID_princ_coord\u001b[0m\u001b[0;34m[\u001b[0m\u001b[0mmovie\u001b[0m\u001b[0;34m[\u001b[0m\u001b[0;36m0\u001b[0m\u001b[0;34m]\u001b[0m\u001b[0;34m]\u001b[0m\u001b[0;34m\u001b[0m\u001b[0m\n\u001b[0m\u001b[1;32m      9\u001b[0m     \u001b[0mprint\u001b[0m\u001b[0;34m(\u001b[0m\u001b[0mprincipal_coord\u001b[0m\u001b[0;34m)\u001b[0m\u001b[0;34m\u001b[0m\u001b[0m\n\u001b[1;32m     10\u001b[0m     \u001b[0mx\u001b[0m\u001b[0;34m.\u001b[0m\u001b[0mappend\u001b[0m\u001b[0;34m(\u001b[0m\u001b[0mprincipal_coord\u001b[0m\u001b[0;34m[\u001b[0m\u001b[0;36m0\u001b[0m\u001b[0;34m]\u001b[0m\u001b[0;34m)\u001b[0m\u001b[0;34m\u001b[0m\u001b[0m\n",
      "\u001b[0;31mKeyError\u001b[0m: 5349"
     ]
    }
   ],
   "source": [
    "x = []\n",
    "y = []\n",
    "rating = []\n",
    "\n",
    "for movie in selection:\n",
    "    print(movie[0])\n",
    "#     print(tagID_princ_coord)\n",
    "    principal_coord = tagID_princ_coord[movie[0]]\n",
    "    print(principal_coord)\n",
    "    x.append(principal_coord[0])\n",
    "    y.append(principal_coord[1])\n",
    "    rating.append(movie[2])"
   ]
  },
  {
   "cell_type": "code",
   "execution_count": null,
   "metadata": {
    "collapsed": true
   },
   "outputs": [],
   "source": []
  }
 ],
 "metadata": {
  "anaconda-cloud": {},
  "kernelspec": {
   "display_name": "Python 3",
   "language": "python",
   "name": "python3"
  },
  "language_info": {
   "codemirror_mode": {
    "name": "ipython",
    "version": 3
   },
   "file_extension": ".py",
   "mimetype": "text/x-python",
   "name": "python",
   "nbconvert_exporter": "python",
   "pygments_lexer": "ipython3",
   "version": "3.6.3"
  }
 },
 "nbformat": 4,
 "nbformat_minor": 1
}
