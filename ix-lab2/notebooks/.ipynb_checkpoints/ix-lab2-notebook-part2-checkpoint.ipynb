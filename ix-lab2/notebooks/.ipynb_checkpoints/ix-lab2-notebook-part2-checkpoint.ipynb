{
 "cells": [
  {
   "cell_type": "markdown",
   "metadata": {},
   "source": [
    "# Networks: structure, evolution & processes\n",
    "**Internet Analytics - Lab 2**\n",
    "\n",
    "---\n",
    "\n",
    "**Group:** *Your group letter.*\n",
    "\n",
    "**Names:**\n",
    "\n",
    "* *Name 1*\n",
    "* *Name 2*\n",
    "* *Name 3*\n",
    "\n",
    "---\n",
    "\n",
    "#### Instructions\n",
    "\n",
    "*This is a template for part 2 of the lab. Clearly write your answers, comments and interpretations in Markodown cells. Don't forget that you can add $\\LaTeX$ equations in these cells. Feel free to add or remove any cell.*\n",
    "\n",
    "*Please properly comment your code. Code readability will be considered for grading. To avoid long cells of codes in the notebook, you can also embed long python functions and classes in a separate module. Don’t forget to hand in your module if that is the case. In multiple exercises, you are required to come up with your own method to solve various problems. Be creative and clearly motivate and explain your methods. Creativity and clarity will be considered for grading.*"
   ]
  },
  {
   "cell_type": "code",
   "execution_count": 1,
   "metadata": {},
   "outputs": [],
   "source": [
    "import requests\n",
    "import numpy as np\n",
    "import matplotlib.pyplot as plt"
   ]
  },
  {
   "cell_type": "markdown",
   "metadata": {},
   "source": [
    "---\n",
    "\n",
    "## 2.2 Network sampling\n",
    "\n",
    "#### Exercise 2.7: Random walk on the Facebook network"
   ]
  },
  {
   "cell_type": "code",
   "execution_count": 23,
   "metadata": {},
   "outputs": [],
   "source": [
    "# Base url of the API\n",
    "URL_TEMPLATE = 'http://iccluster040.iccluster.epfl.ch:5050/v1.0/facebook?user={user_id}'\n",
    "# Target user id\n",
    "user_id = 'f30ff3966f16ed62f5165a229a19b319'\n",
    "\n",
    "def getData(user_id):\n",
    "    url = URL_TEMPLATE.format(user_id=user_id)\n",
    "    response = requests.get(url)\n",
    "    return response.json()"
   ]
  },
  {
   "cell_type": "code",
   "execution_count": null,
   "metadata": {},
   "outputs": [
    {
     "name": "stdout",
     "output_type": "stream",
     "text": [
      " Progress: 59 / 500"
     ]
    }
   ],
   "source": [
    "ages = np.zeros(120) # Assuming that there are no persons older than 120 on facebook\n",
    "num_friends = np.zeros(120)\n",
    "number = 500\n",
    "for i in range(number):\n",
    "    print('\\r Progress: %d' % (i+1),'/', number, end='' )\n",
    "    data = getData(user_id)\n",
    "    ages[data['age']] = ages[data['age']] + 1\n",
    "    num_friends[data['age']] = num_friends[data['age']] + len(data['friends'])\n",
    "    user_id = np.random.choice(data['friends'])"
   ]
  },
  {
   "cell_type": "code",
   "execution_count": 20,
   "metadata": {},
   "outputs": [
    {
     "name": "stdout",
     "output_type": "stream",
     "text": [
      "Nodes visited: 500\n",
      "Average age: 25.98\n"
     ]
    }
   ],
   "source": [
    "print('Nodes visited:', number)\n",
    "print('Average age:', np.sum(np.linspace(0, 119, 120) * ages) / number)"
   ]
  },
  {
   "cell_type": "markdown",
   "metadata": {},
   "source": [
    "#### Exercise 2.8"
   ]
  },
  {
   "cell_type": "markdown",
   "metadata": {},
   "source": [
    "Our calculated average age is far below the actual average of 43.3.<br>\n",
    "To understand why this is the case, let's calculate the average number of friends per years of age:"
   ]
  },
  {
   "cell_type": "code",
   "execution_count": 21,
   "metadata": {},
   "outputs": [
    {
     "data": {
      "text/plain": [
       "<matplotlib.collections.PathCollection at 0x7ff633590a90>"
      ]
     },
     "execution_count": 21,
     "metadata": {},
     "output_type": "execute_result"
    },
    {
     "data": {
      "image/png": "[encoded data removed]",
      "text/plain": [
       "<Figure size 432x288 with 1 Axes>"
      ]
     },
     "metadata": {
      "needs_background": "light"
     },
     "output_type": "display_data"
    }
   ],
   "source": [
    "average_friends = np.zeros(120)\n",
    "for i in range(120):\n",
    "    if ages[i] != 0:\n",
    "        average_friends[i] = num_friends[i] / ages[i]\n",
    "\n",
    "plt.scatter(range(120),average_friends)"
   ]
  },
  {
   "cell_type": "markdown",
   "metadata": {},
   "source": [
    "<p>It is quite clearly visible that younger people have many more friends on average than older people. <br>\n",
    "Therefore, the fact that our calculated average is so low can be explained by the friendship paradox:<br>\n",
    "<b>It is more likely to be friends with someone who has a lot of friends. </b><br>\n",
    "In our case, the ones with more friends are the younger people, and when choosing a person from the friends lists, we are more likely to be picking a younger person.</p>\n",
    "\n",
    "<p>To avoid this problem, we should not pick a person at random from the friends lists, but choose a random userId.<br>\n",
    "But since we don't have a set of all userIds to uniformly choose from and trying to generate and guess userIds is very inefficient, we instead apply the <b>unbiased estimator</b> that we saw in class:</p>\n"
   ]
  },
  {
   "cell_type": "code",
   "execution_count": 46,
   "metadata": {},
   "outputs": [
    {
     "name": "stdout",
     "output_type": "stream",
     "text": [
      " Progress: 499 / 500\n",
      "Unbiased mean: 38.97229367282396\n"
     ]
    }
   ],
   "source": [
    "number = 500\n",
    "ages = np.array([])\n",
    "unbiased_ages = np.array([])\n",
    "friends_num = np.array([])\n",
    "\n",
    "for i in range(number):\n",
    "    print('\\r Progress: %d' % (i+1),'/', number, end='' )\n",
    "    data = getData(user_id)\n",
    "    ages = np.append(ages, data['age'])\n",
    "    friends_num = np.append(friends_num, len(data['friends']))\n",
    "    unbiased_ages = np.append(unbiased_ages, np.sum(ages/friends_num) / np.sum(friends_num**-1))\n",
    "    user_id = np.random.choice(data['friends'])\n",
    "    \n",
    "print('\\nUnbiased mean:', np.mean(unbiased_ages))"
   ]
  },
  {
   "cell_type": "markdown",
   "metadata": {},
   "source": [
    "Now we are much closer to the actual average."
   ]
  }
 ],
 "metadata": {
  "kernelspec": {
   "display_name": "Python 3",
   "language": "python",
   "name": "python3"
  },
  "language_info": {
   "codemirror_mode": {
    "name": "ipython",
    "version": 3
   },
   "file_extension": ".py",
   "mimetype": "text/x-python",
   "name": "python",
   "nbconvert_exporter": "python",
   "pygments_lexer": "ipython3",
   "version": "3.7.1"
  }
 },
 "nbformat": 4,
 "nbformat_minor": 2
}
