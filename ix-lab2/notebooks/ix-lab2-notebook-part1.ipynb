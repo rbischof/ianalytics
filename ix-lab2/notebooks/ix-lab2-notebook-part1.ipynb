{
 "cells": [
  {
   "cell_type": "markdown",
   "metadata": {},
   "source": [
    "# Networks: structure, evolution & processes\n",
    "**Internet Analytics - Lab 2**\n",
    "\n",
    "---\n",
    "\n",
    "**Group:** **J**\n",
    "\n",
    "**Names:**\n",
    "\n",
    "* *Rafael Bischof*\n",
    "* *Jeniffer Lima Graf*\n",
    "* *Alexander Sanchez*\n",
    "\n",
    "---\n",
    "\n",
    "#### Instructions\n",
    "\n",
    "*This is a template for part 1 of the lab. Clearly write your answers, comments and interpretations in Markodown cells. Don't forget that you can add $\\LaTeX$ equations in these cells. Feel free to add or remove any cell.*\n",
    "\n",
    "*Please properly comment your code. Code readability will be considered for grading. To avoid long cells of codes in the notebook, you can also embed long python functions and classes in a separate module. Don’t forget to hand in your module if that is the case. In multiple exercises, you are required to come up with your own method to solve various problems. Be creative and clearly motivate and explain your methods. Creativity and clarity will be considered for grading.*"
   ]
  },
  {
   "cell_type": "code",
   "execution_count": 29,
   "metadata": {},
   "outputs": [],
   "source": [
    "import numpy as np\n",
    "import networkx as nx\n",
    "import matplotlib.pyplot as plt\n",
    "from matplotlib.pyplot import figure\n",
    "import csv"
   ]
  },
  {
   "cell_type": "markdown",
   "metadata": {},
   "source": [
    "---\n",
    "\n",
    "## 2.1 Exploration of real networks\n",
    "\n",
    "#### Exercise 2.1\n",
    "Your first task is to explore network1 and analyze its properties.<br>\n",
    "1.  Load the graph in your favorite data structure.<br>\n",
    "2.  How many nodes and edges does the graph contain?"
   ]
  },
  {
   "cell_type": "code",
   "execution_count": 30,
   "metadata": {},
   "outputs": [
    {
     "name": "stdout",
     "output_type": "stream",
     "text": [
      "Number of nodes: 13033\n",
      "Number of edges: 18584\n",
      "Average degree: 2.8518376429064682\n",
      "Highest degree: 1482\n"
     ]
    }
   ],
   "source": [
    "with open('../data/network1.csv') as file:\n",
    "    data=[tuple(line) for line in csv.reader(filter(lambda row: row[0]!='#', file))]\n",
    "\n",
    "G = nx.Graph(data)\n",
    "print('Number of nodes:', G.number_of_nodes())\n",
    "print('Number of edges:', G.number_of_edges())\n",
    "degrees = np.fromiter(dict(G.degree()).values(), dtype=int)\n",
    "print('Average degree:', np.mean(degrees))\n",
    "print('Highest degree:', sorted(degrees)[-1])"
   ]
  },
  {
   "cell_type": "markdown",
   "metadata": {},
   "source": [
    "#### Exercise 2.2:  Node degree distribution"
   ]
  },
  {
   "cell_type": "code",
   "execution_count": null,
   "metadata": {},
   "outputs": [],
   "source": [
    "from scipy.stats import pareto\n",
    "\n",
    "def node_degree_distribution(G, bins):\n",
    "    degrees = np.fromiter(dict(G.degree()).values(), dtype=int)\n",
    "    values = np.bincount(degrees)\n",
    "    b, loc, scale = pareto.fit(degrees) # Fitting a pareto distribution to the data\n",
    "    print(b, loc, scale)\n",
    "\n",
    "    figure(figsize=(15,10))\n",
    "    plt.subplot(2,2,1)\n",
    "    plt.title(\"Semilogy plot of node degrees\")\n",
    "    plt.xlabel(\"Degree\")\n",
    "    plt.ylabel(\"Number of nodes\")\n",
    "    plt.hist(degrees[degrees < bins], bins, label='Real data', log=True)\n",
    "    plt.legend()\n",
    "\n",
    "    plt.subplot(2,2,2)\n",
    "    plt.title(\"Semilogy plot of node degrees\")\n",
    "    plt.xlabel(\"Degree\")\n",
    "    plt.ylabel(\"Number of nodes\")\n",
    "    np.random.seed(10)\n",
    "    pareto_numbers = pareto.rvs(2, 0, 1, len(degrees))\n",
    "    plt.hist(pareto_numbers[pareto_numbers < bins], bins, label='Generated data from approximated distr.', log=True)\n",
    "    plt.legend()\n",
    "\n",
    "    cumulative = np.cumsum(values)\n",
    "    plt.subplot(2,2,3)\n",
    "    plt.title(\"Cumulative semilogy plot of node degrees\")\n",
    "    plt.xlabel(\"Degree\")\n",
    "    plt.ylabel(\"Number of nodes with degree larger than x\")\n",
    "    plt.plot(len(degrees) - cumulative[:200], label='Real data')\n",
    "    plt.plot([len(degrees) - pareto.cdf(x+1, b, loc, scale)*len(degrees) for x in range(200)], label='Approximated pareto distribution')\n",
    "    plt.legend()"
   ]
  },
  {
   "cell_type": "code",
   "execution_count": null,
   "metadata": {
    "scrolled": false
   },
   "outputs": [],
   "source": [
    "node_degree_distribution(G, 35)"
   ]
  },
  {
   "cell_type": "markdown",
   "metadata": {},
   "source": [
    "#### Answer:\n",
    "2. No node has degree = 0, which was to be expected since we constructed the graph from a set of edges. The degree of the nodes falls off exponentially.\n",
    "\n",
    "3. The distribution resembles a pareto distribution. And in fact, when fitting the pareto parameters to the data and plotting the approximated distribution, it gives very similar results.<br>\n",
    "The parameters found are 5 for b, -3 for the locality and 4 for the scale. This makes sense, since the data has some extreme outliers. Therefore, scale needs to be large. To keep the steepness of the curve, b needs to be high as well to compensate the scale parameter. And finally the locality parameter makes sure the distribution starts at 1."
   ]
  },
  {
   "cell_type": "markdown",
   "metadata": {},
   "source": [
    "#### Exercise 2.3: Giant component"
   ]
  },
  {
   "cell_type": "code",
   "execution_count": 37,
   "metadata": {},
   "outputs": [
    {
     "name": "stdout",
     "output_type": "stream",
     "text": [
      "# of connected components: 192\n",
      "Size of largest component: 12576 ; 96.493516 percent of total graph\n",
      "Size of second largest component: 16\n"
     ]
    }
   ],
   "source": [
    "conn_components = sorted(nx.connected_components(G), key = len, reverse=True)\n",
    "print('# of connected components:', len(conn_components))\n",
    "print('Size of largest component:', len(conn_components[0]), '; %f percent of total graph' % (len(conn_components[0])/G.number_of_nodes()*100))\n",
    "print('Size of second largest component:', len(conn_components[1]))"
   ]
  },
  {
   "cell_type": "markdown",
   "metadata": {},
   "source": [
    "The difference of size between the two largest components is huge. Also, the biggest component occupies over 96% of the graph, so we can say that the largest component is a giant component."
   ]
  },
  {
   "cell_type": "markdown",
   "metadata": {},
   "source": [
    "#### Exercise 2.4: Short paths & Small-worlds"
   ]
  },
  {
   "cell_type": "code",
   "execution_count": 6,
   "metadata": {},
   "outputs": [],
   "source": [
    "avg = nx.average_shortest_path_length(G.subgraph(conn_components[0]))"
   ]
  },
  {
   "cell_type": "code",
   "execution_count": 7,
   "metadata": {},
   "outputs": [
    {
     "name": "stdout",
     "output_type": "stream",
     "text": [
      "Average shortest path: 4.175488076629283\n"
     ]
    }
   ],
   "source": [
    "print('Average shortest path:', avg)"
   ]
  },
  {
   "cell_type": "code",
   "execution_count": 38,
   "metadata": {},
   "outputs": [],
   "source": [
    "def reachable_nodes_in_k_hops(s, node, k):\n",
    "    if k < 1:\n",
    "        return s\n",
    "    \n",
    "    for n in set(G.neighbors(node)) - s:  # iterate over neighbours of node that are not in s yet\n",
    "        s.add(n)\n",
    "        s = s | reachable_nodes_in_k_hops(s, n, k-1)\n",
    "        \n",
    "    return s"
   ]
  },
  {
   "cell_type": "markdown",
   "metadata": {},
   "source": [
    "For 100 random starting nodes, calculate the number of nodes reachable in 1, 2, ..., 6 hops and take the average."
   ]
  },
  {
   "cell_type": "code",
   "execution_count": 39,
   "metadata": {},
   "outputs": [
    {
     "name": "stdout",
     "output_type": "stream",
     "text": [
      " Progress: 100 / 100"
     ]
    }
   ],
   "source": [
    "gc = list(conn_components[0])\n",
    "def calc_means(gc):\n",
    "    res = np.zeros((100, 10))\n",
    "    for i in range(100):\n",
    "        for j in range(10):\n",
    "            np.random.seed(i)\n",
    "            s = reachable_nodes_in_k_hops(set(), np.random.choice(gc), j+1)\n",
    "            res[i, j] = len(s)\n",
    "\n",
    "        print('\\r Progress: %d' % (i+1),'/', 100, end='' )\n",
    "    return np.mean(res, axis=0)\n",
    "means = calc_means(gc)"
   ]
  },
  {
   "cell_type": "code",
   "execution_count": 40,
   "metadata": {
    "scrolled": false
   },
   "outputs": [
    {
     "name": "stdout",
     "output_type": "stream",
     "text": [
      "log parameters: 29.815570336609877 4.685290555804596\n"
     ]
    },
    {
     "data": {
      "text/plain": [
       "<matplotlib.legend.Legend at 0x7f04d9875a58>"
      ]
     },
     "execution_count": 40,
     "metadata": {},
     "output_type": "execute_result"
    },
    {
     "data": {
      "image/png": "[encoded data removed]",
      "text/plain": [
       "<Figure size 432x288 with 1 Axes>"
      ]
     },
     "metadata": {
      "needs_background": "light"
     },
     "output_type": "display_data"
    }
   ],
   "source": [
    "data = means / len(gc) * 100\n",
    "plt.plot(data, label='% of discovered nodes')\n",
    "x = np.arange(9)\n",
    "a, b = np.polyfit(np.log(x+1), data[1:], 1)\n",
    "print('log parameters:', a, b)\n",
    "plt.plot(np.append([0], a*np.log(x+1) + b), label='fitted log curve')\n",
    "plt.ylabel(\"% of discovered nodes\")\n",
    "plt.xlabel(\"# of hops\")\n",
    "plt.legend()"
   ]
  },
  {
   "cell_type": "markdown",
   "metadata": {},
   "source": [
    "The average shortest path of 4.2 hops in such a big network is a strong indicator for a small world. Also, after 6 hops, we discovered 60% of the entire graph. <br>\n",
    "Taking the definition of a small world from Wikipedia, the average shortest path in a graph should be proportional to the log of total discovered nodes. From the log curve that we fitted to the data, it is clearly visible that it follows this log curve and that this condition is satisfied."
   ]
  },
  {
   "cell_type": "markdown",
   "metadata": {},
   "source": [
    "#### Exercise 2.5: Network comparison"
   ]
  },
  {
   "cell_type": "code",
   "execution_count": 41,
   "metadata": {},
   "outputs": [
    {
     "name": "stdout",
     "output_type": "stream",
     "text": [
      "Number of nodes: 26542\n",
      "Number of edges: 43516\n",
      "Average degree: 3.2790294627383014\n",
      "Highest degree: 8\n"
     ]
    }
   ],
   "source": [
    "with open('../data/network2.csv') as file:\n",
    "    data=[tuple(line) for line in csv.reader(filter(lambda row: row[0]!='#', file))]\n",
    "\n",
    "G2 = nx.Graph(data)\n",
    "print('Number of nodes:', G2.number_of_nodes())\n",
    "print('Number of edges:', G2.number_of_edges())\n",
    "degrees2 = np.fromiter(dict(G2.degree()).values(), dtype=int)\n",
    "print('Average degree:', np.mean(degrees2))\n",
    "print('Highest degree:', sorted(degrees2)[-1])"
   ]
  },
  {
   "cell_type": "code",
   "execution_count": 42,
   "metadata": {},
   "outputs": [],
   "source": [
    "def node_degree_distribution2(G, bins):\n",
    "    degrees = np.fromiter(dict(G.degree()).values(), dtype=int)\n",
    "    values = np.bincount(degrees)\n",
    "    cumulative = G.number_of_nodes() - np.cumsum(values)\n",
    "\n",
    "    figure(figsize=(15,4))\n",
    "    plt.subplot(1,2,1)\n",
    "    plt.title(\"Semilogy plot of node degrees\")\n",
    "    plt.xlabel(\"Degree\")\n",
    "    plt.ylabel(\"Number of nodes\")\n",
    "    plt.plot(values)\n",
    "    \n",
    "    plt.subplot(1,2,2)\n",
    "    plt.plot(cumulative)"
   ]
  },
  {
   "cell_type": "code",
   "execution_count": 46,
   "metadata": {
    "scrolled": true
   },
   "outputs": [
    {
     "data": {
      "image/png": "[encoded data removed]",
      "text/plain": [
       "<Figure size 1080x288 with 2 Axes>"
      ]
     },
     "metadata": {
      "needs_background": "light"
     },
     "output_type": "display_data"
    }
   ],
   "source": [
    "node_degree_distribution2(G2, 10)"
   ]
  },
  {
   "cell_type": "markdown",
   "metadata": {},
   "source": [
    "This doesn't resemble to a pareto distribution. It is much more a gaussian distribution."
   ]
  },
  {
   "cell_type": "code",
   "execution_count": 47,
   "metadata": {
    "scrolled": true
   },
   "outputs": [
    {
     "name": "stdout",
     "output_type": "stream",
     "text": [
      "# of connected components: 5\n",
      "Size of largest component: 26481 ; 99.770176 percent of total graph\n",
      "Size of second largest component: 30\n"
     ]
    }
   ],
   "source": [
    "conn_components = sorted(nx.connected_components(G2), key = len, reverse=True)\n",
    "print('# of connected components:', len(conn_components))\n",
    "print('Size of largest component:', len(conn_components[0]), '; %f percent of total graph' % (len(conn_components[0])/G2.number_of_nodes()*100))\n",
    "print('Size of second largest component:', len(conn_components[1]))"
   ]
  },
  {
   "cell_type": "code",
   "execution_count": null,
   "metadata": {},
   "outputs": [],
   "source": [
    "avg2 = nx.average_shortest_path_length(G2.subgraph(conn_components[0]))"
   ]
  },
  {
   "cell_type": "code",
   "execution_count": null,
   "metadata": {},
   "outputs": [],
   "source": [
    "print('Average shortest path length:', avg2)"
   ]
  },
  {
   "cell_type": "code",
   "execution_count": null,
   "metadata": {},
   "outputs": [],
   "source": [
    "data = calc_means(list(conn_components[0])) / len(gc) *100\n",
    "plt.plot(data, label='% of discovered nodes')\n",
    "x = np.arange(9)\n",
    "a, b = np.polyfit(np.log(x+1), data[1:], 1)\n",
    "print('log parameters:', a, b)\n",
    "plt.plot(np.append([0], a*np.log(x+1) + b), label='fitted log curve')\n",
    "plt.ylabel(\"% of discovered nodes\")\n",
    "plt.xlabel(\"# of hops\")\n",
    "plt.legend()"
   ]
  },
  {
   "cell_type": "markdown",
   "metadata": {},
   "source": [
    "#### Exercise 2.6: Network identification"
   ]
  },
  {
   "cell_type": "markdown",
   "metadata": {},
   "source": [
    "Just by looking at the maximum and average node degree, we can quite confidently say that the first graph represents the subgraph of routers, while the second one represents the network of roads around New York, because it isn't possible for a roads-intersection to have 1482 incoming roads.<br>\n",
    "Also, an average shortest path of 91 in a routers' network would be extremely inefficient. In fact, it is much easier to closely connect routers than intersections, because the connection is just a line and not an entire street. It can therefore be expected that the average shortest paths should be shorter than in a streets' network."
   ]
  },
  {
   "cell_type": "code",
   "execution_count": null,
   "metadata": {},
   "outputs": [],
   "source": []
  }
 ],
 "metadata": {
  "kernelspec": {
   "display_name": "Python 3",
   "language": "python",
   "name": "python3"
  },
  "language_info": {
   "codemirror_mode": {
    "name": "ipython",
    "version": 3
   },
   "file_extension": ".py",
   "mimetype": "text/x-python",
   "name": "python",
   "nbconvert_exporter": "python",
   "pygments_lexer": "ipython3",
   "version": "3.7.1"
  }
 },
 "nbformat": 4,
 "nbformat_minor": 2
}
