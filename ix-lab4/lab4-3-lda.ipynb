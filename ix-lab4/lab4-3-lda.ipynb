{
 "cells": [
  {
   "cell_type": "markdown",
   "metadata": {},
   "source": [
    "# Text 3: Latent Dirichlet allocation\n",
    "**Internet Analytics - Lab 4**\n",
    "\n",
    "---\n",
    "\n",
    "**Group:** *Your group letter.*\n",
    "\n",
    "**Names:**\n",
    "\n",
    "* *Name 1*\n",
    "* *Name 2*\n",
    "* *Name 3*\n",
    "\n",
    "---\n",
    "\n",
    "#### Instructions\n",
    "\n",
    "*This is a template for part 3 of the lab. Clearly write your answers, comments and interpretations in Markodown cells. Don't forget that you can add $\\LaTeX$ equations in these cells. Feel free to add or remove any cell.*\n",
    "\n",
    "*Please properly comment your code. Code readability will be considered for grading. To avoid long cells of codes in the notebook, you can also embed long python functions and classes in a separate module. Don’t forget to hand in your module if that is the case. In multiple exercises, you are required to come up with your own method to solve various problems. Be creative and clearly motivate and explain your methods. Creativity and clarity will be considered for grading.*"
   ]
  },
  {
   "cell_type": "code",
   "execution_count": 5,
   "metadata": {
    "collapsed": true
   },
   "outputs": [],
   "source": [
    "from pyspark.mllib.clustering import LDA, LDAModel\n",
    "from pyspark.mllib.linalg import Vectors\n",
    "from collections import Counter\n",
    "import sklearn.cluster as cl"
   ]
  },
  {
   "cell_type": "code",
   "execution_count": 31,
   "metadata": {
    "collapsed": true
   },
   "outputs": [],
   "source": [
    "import pickle\n",
    "\n",
    "with open('preprocessedcourses.pickle', 'rb') as handle:\n",
    "    preprocessedcourses = pickle.load(handle)\n",
    "with open('wordsIdx.pickle', 'rb') as handle:\n",
    "    wordsIdx = pickle.load(handle)\n",
    "with open('coursesIdx.pickle', 'rb') as handle:\n",
    "    coursesIdx = pickle.load(handle)\n",
    "with open('idxWords.pickle', 'rb') as handle:\n",
    "    idxWords = pickle.load(handle)\n",
    "with open('idxCourses.pickle', 'rb') as handle:\n",
    "    idxCourses = pickle.load(handle)"
   ]
  },
  {
   "cell_type": "code",
   "execution_count": 19,
   "metadata": {},
   "outputs": [
    {
     "name": "stdout",
     "output_type": "stream",
     "text": [
      "['house', 'simple', 'topic', 'studio', 'matter', 'simple', 'complexity', 'space', 'cascade', 'room', 'simple', 'complexity', 'house', 'house', 'architecture', 'house', 'context', 'house', 'content', 'cut', 'construct', 'studio', 'de', 'deal', 'idea', 'reference', 'frame', 'reference', 'idea', 'practice', 'hand', 'working', 'time', 'hand', 'starting', 'detail', 'studio', 'architecture', 'exercise', 'architect', 'studio', 'practice', 'observation', 'analyze', 'concept', 'part', 'approach', 'strong', 'belief', 'variety', 'medium', 'drawing', 'modeling', 'result', 'ongoing', 'instrument', 'table', 'working', 'life', 'studio', 'de', 'studio', 'cut', 'construct', 'cut', 'drawing', 'starting', 'point', 'drawing', 'house', 'starting', 'point', 'exercise', 'previous', 'studio', 'year', 'cascade', 'complexity', 'start', 'detail', 'find', 'additive', 'space', 'studio', 'year', 'idea', 'starting', 'drawing', 'model', 'difference', 'studio', 'year', 'cut', 'construct', 'cut', 'cut', 'context', 'city', 'city', 'make', 'city', 'practice', 'practice', 'outcome', 'end', 'understanding', 'detail', 'make', 'space', 'space', 'make', 'detail', 'reference', 'finding', 'drawing', 'model', 'drawing', 'model', 'teaching', 'movement', 'studio', 'debate', 'guide', 'depending', 'evolution', 'studio', 'moment', 'order', 'progress', 'studio', 'organised', 'part', 'year', 'part', 'movement', 'part', 'movement', 'part', 'movement', 'ii', 'cascade', 'part', 'movement', 'iii', 'complexity', 'ii', 'special', 'small', 'short', 'term', 'exercise', 'introduced', 'matter', 'process', 'expected', 'activity', 'continuous', 'present', 'week', 'evolution', 'medium', 'model', 'drawing', 'report', 'book', 'evolution', 'outcome end', 'teaching method', 'expected activity']\n",
      "[('MSE-440', ['latest', 'development', 'processing', 'generation', 'organic', 'composite', 'discussed', 'adaptive', 'composite', 'presented', 'product', 'development', 'cost', 'analysis', 'study', 'market', 'team', 'work', 'content', 'basic', 'composite', 'composite', 'structure', 'current', 'composite', 'force', 'keywords', 'composite', 'application', 'adaptive', 'composite', 'design', 'cost', 'required', 'notion', 'polymer', 'recommended', 'polymer', 'composite', 'outcome', 'end', 'propose', 'suitable', 'design', 'production', 'performance', 'criterion', 'production', 'composite', 'basic', 'equation', 'process', 'mechanical', 'property', 'modelling', 'composite', 'main', 'type', 'composite', 'application', 'transversal', 'skill', 'work', 'methodology', 'general', 'domain', 'specific', 'resource', 'effectively', 'professional', 'performance', 'team', 'receive', 'respond', 'appropriately', 'feedback', 'teaching', 'invited', 'speaker', 'group', 'session', 'exercise', 'work', 'expected', 'activity', 'attendance', 'lecture', 'design', 'composite', 'part', 'bibliography', 'search', 'written', 'report', 'oral', 'presentation', 'class', 'team work', 'content basic', 'outcome end', 'mechanical property', 'transversal skill', 'skill work', 'work methodology', 'general domain', 'domain specific', 'specific resource', 'effectively professional', 'performance team', 'team receive', 'receive respond', 'respond appropriately', 'teaching method', 'invited speaker', 'work expected', 'expected activity', 'activity attendance', 'attendance lecture', 'method written', 'written report', 'report oral', 'oral presentation'])]\n"
     ]
    }
   ],
   "source": [
    "print(preprocessedcourses['AR-201(c)'])\n",
    "print(ppc.take(1))"
   ]
  },
  {
   "cell_type": "code",
   "execution_count": 79,
   "metadata": {
    "collapsed": true
   },
   "outputs": [],
   "source": [
    "def vectorize(course):\n",
    "    wordcounts = Counter(preprocessedcourses[course])\n",
    "    idxToCount = {}\n",
    "    for w in wordcounts:\n",
    "        idxToCount[wordsIdx[w]] = wordcounts[w]\n",
    "    idxToCount = sorted(idxToCount.items())\n",
    "    keys = [x[0] for x in idxToCount]\n",
    "    values = [x[1] for x in idxToCount]\n",
    "    return [coursesIdx[course], Vectors.sparse(len(wordsIdx), keys, values)]\n",
    "\n",
    "ppc = sc.parallelize(preprocessedcourses.items()).map(lambda x: vectorize(x[0]))"
   ]
  },
  {
   "cell_type": "code",
   "execution_count": 74,
   "metadata": {
    "scrolled": true
   },
   "outputs": [
    {
     "data": {
      "text/plain": [
       "[712,\n",
       " SparseVector(2332, {27: 1.0, 64: 7.0, 68: 1.0, 112: 1.0, 115: 3.0, 317: 1.0, 333: 1.0, 345: 2.0, 354: 1.0, 372: 1.0, 554: 1.0, 590: 2.0, 614: 1.0, 616: 1.0, 625: 1.0, 690: 1.0, 722: 1.0, 739: 2.0, 804: 1.0, 815: 1.0, 822: 2.0, 844: 4.0, 855: 1.0, 898: 1.0, 905: 1.0, 909: 4.0, 939: 3.0, 964: 1.0, 971: 2.0, 1034: 1.0, 1036: 4.0, 1046: 1.0, 1059: 4.0, 1073: 6.0, 1085: 3.0, 1110: 1.0, 1141: 4.0, 1145: 3.0, 1220: 1.0, 1245: 3.0, 1354: 1.0, 1387: 1.0, 1391: 2.0, 1452: 6.0, 1469: 6.0, 1475: 1.0, 1494: 5.0, 1499: 1.0, 1531: 1.0, 1533: 1.0, 1579: 1.0, 1629: 1.0, 1635: 3.0, 1638: 1.0, 1645: 1.0, 1664: 12.0, 1678: 4.0, 1684: 1.0, 1690: 1.0, 1691: 3.0, 1749: 1.0, 1792: 1.0, 1815: 2.0, 1835: 1.0, 1865: 1.0, 1869: 3.0, 1901: 1.0, 1996: 4.0, 2000: 1.0, 2008: 1.0, 2020: 1.0, 2103: 1.0, 2105: 2.0, 2161: 3.0, 2191: 1.0, 2208: 2.0, 2219: 1.0, 2232: 1.0, 2245: 1.0, 2252: 1.0, 2262: 1.0, 2267: 1.0, 2284: 1.0, 2287: 1.0, 2301: 1.0})]"
      ]
     },
     "execution_count": 74,
     "metadata": {},
     "output_type": "execute_result"
    }
   ],
   "source": [
    "vector('AR-201(c)')"
   ]
  },
  {
   "cell_type": "code",
   "execution_count": 93,
   "metadata": {
    "collapsed": true
   },
   "outputs": [],
   "source": [
    "def printModel(model):\n",
    "    i = 1\n",
    "    for topic in model.describeTopics(10):\n",
    "        print(i,[idxWords[idx] for idx in topic[0]])\n",
    "        i += 1"
   ]
  },
  {
   "cell_type": "markdown",
   "metadata": {},
   "source": [
    "## Exercise 4.8: Topics extraction"
   ]
  },
  {
   "cell_type": "code",
   "execution_count": 97,
   "metadata": {},
   "outputs": [
    {
     "name": "stdout",
     "output_type": "stream",
     "text": [
      "1 ['processing', 'signal', 'optical', 'basic', 'laser', 'design', 'network', 'communication', 'application', 'signal processing']\n",
      "2 ['linear', 'exercise', 'analysis', 'content', 'teaching', 'concept', 'problem', 'outcome', 'end', 'teaching method']\n",
      "3 ['data', 'model', 'problem', 'algorithm', 'class', 'lecture', 'analysis', 'concept', 'set', 'engineering']\n",
      "4 ['equation', 'property', 'theory', 'state', 'quantum', 'basic', 'transfer', 'heat', 'content', 'process']\n",
      "5 ['energy', 'device', 'circuit', 'material', 'process', 'organic', 'application', 'chemistry', 'sensor', 'technology']\n",
      "6 ['model', 'risk', 'numerical', 'probability', 'time', 'stochastic', 'introduction', 'theory', 'concept', 'market']\n",
      "7 ['design', 'material', 'structure', 'control', 'process', 'work', 'content', 'research', 'mechanic', 'hour']\n",
      "8 ['design', 'image', 'content', 'week', 'exercise', 'basic', 'architecture', 'analysis', 'end', 'lecture']\n",
      "9 ['cell', 'molecular', 'biology', 'chemical', 'biological', 'protein', 'electron', 'content', 'note', 'paper']\n",
      "10 ['report', 'skill', 'plan', 'scientific', 'written', 'work', 'presentation', 'research', 'group', 'transversal skill']\n"
     ]
    }
   ],
   "source": [
    "model = LDA.train(ppc, k=10)\n",
    "printModel(model)"
   ]
  },
  {
   "cell_type": "markdown",
   "metadata": {},
   "source": [
    "## Exercise 4.9: Dirichlet hyperparameters"
   ]
  },
  {
   "cell_type": "code",
   "execution_count": null,
   "metadata": {
    "collapsed": true
   },
   "outputs": [],
   "source": []
  },
  {
   "cell_type": "markdown",
   "metadata": {},
   "source": [
    "## Exercise 4.10: EPFL's taught subjects"
   ]
  },
  {
   "cell_type": "code",
   "execution_count": 96,
   "metadata": {},
   "outputs": [
    {
     "name": "stdout",
     "output_type": "stream",
     "text": [
      "1 ['process', 'stochastic', 'exercise', 'space', 'basic', 'time', 'calculus', 'theory', 'water', 'concept']\n",
      "2 ['energy', 'engineering', 'process', 'design', 'control', 'product', 'simulation', 'technology', 'concept', 'conversion']\n",
      "3 ['material', 'property', 'magnetic', 'physic', 'application', 'metal', 'device', 'mechanical', 'basic', 'structure']\n",
      "4 ['design', 'circuit', 'sensor', 'analog', 'filter', 'basic', 'noise', 'cmos', 'exercise', 'content']\n",
      "5 ['electron', 'material', 'microscopy', 'electronics', 'imaging', 'property', 'device', 'application', 'technique', 'content']\n",
      "6 ['report', 'skill', 'data', 'laboratory', 'scientific', 'problem', 'written', 'optimal', 'analysis', 'result']\n",
      "7 ['design', 'circuit', 'modeling', 'architecture', 'digital', 'work', 'urban', 'building', 'paper', 'lecture']\n",
      "8 ['week', 'model', 'design', 'biology', 'analysis', 'statistical', 'data', 'lecture', 'structural', 'topic']\n",
      "9 ['risk', 'market', 'policy', 'financial', 'model', 'case', 'pricing', 'energy', 'introduction', 'environmental']\n",
      "10 ['hour', 'work', 'science', 'activity', 'research', 'expected', 'discussion', 'lecture', 'presentation', 'expected activity']\n",
      "11 ['cell', 'note', 'control', 'analysis', 'quantum', 'content', 'practical', 'doctoral', 'laboratory', 'module']\n",
      "12 ['model', 'linear', 'problem', 'analysis', 'flow', 'exercise', 'numerical', 'lecture', 'basic', 'concept']\n",
      "13 ['equation', 'solution', 'chemical', 'problem', 'numerical', 'treatment', 'differential', 'exercise', 'drug', 'concept']\n",
      "14 ['data', 'communication', 'algorithm', 'programming', 'computer', 'theory', 'network', 'basic', 'exercise', 'software']\n",
      "15 ['energy', 'cell', 'network', 'mechanic', 'electrochemical', 'brain', 'fracture', 'force', 'content', 'concept']\n",
      "16 ['plan', 'skill', 'group', 'presentation', 'work', 'team', 'research', 'evaluate', 'study', 'effectively']\n",
      "17 ['reaction', 'chemistry', 'lecture', 'topic', 'content', 'session', 'synthesis', 'reactor', 'technique', 'cell']\n",
      "18 ['molecular', 'chemistry', 'chemical', 'protein', 'organic', 'molecule', 'reaction', 'structure', 'concept', 'outcome']\n",
      "19 ['processing', 'signal', 'model', 'analysis', 'signal processing', 'image', 'linear', 'fourier', 'application', 'speech']\n",
      "20 ['optical', 'laser', 'optic', 'light', 'principle', 'field', 'radiation', 'content', 'wave', 'electromagnetic']\n"
     ]
    }
   ],
   "source": [
    "model = LDA.train(ppc,k=20,docConcentration=1.0000000000001,topicConcentration=1.0000000000001)\n",
    "printModel(model)"
   ]
  },
  {
   "cell_type": "markdown",
   "metadata": {},
   "source": [
    "## Exercise 4.11: Wikipedia structure"
   ]
  },
  {
   "cell_type": "code",
   "execution_count": null,
   "metadata": {
    "collapsed": true
   },
   "outputs": [],
   "source": []
  }
 ],
 "metadata": {
  "kernelspec": {
   "display_name": "Python 3",
   "language": "python",
   "name": "python3"
  },
  "language_info": {
   "codemirror_mode": {
    "name": "ipython",
    "version": 3
   },
   "file_extension": ".py",
   "mimetype": "text/x-python",
   "name": "python",
   "nbconvert_exporter": "python",
   "pygments_lexer": "ipython3",
   "version": "3.6.3"
  }
 },
 "nbformat": 4,
 "nbformat_minor": 2
}
