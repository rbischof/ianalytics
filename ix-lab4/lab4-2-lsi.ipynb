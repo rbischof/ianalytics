{
 "cells": [
  {
   "cell_type": "markdown",
   "metadata": {},
   "source": [
    "# Text 2: Latent semantic indexing\n",
    "**Internet Analytics - Lab 4**\n",
    "\n",
    "---\n",
    "\n",
    "**Group:** J\n",
    "\n",
    "**Names:**\n",
    "\n",
    "* Rafael Bischof\n",
    "* Jeniffer Lima Graf\n",
    "* Alexander Sanchez\n",
    "\n",
    "---\n",
    "\n",
    "#### Instructions\n",
    "\n",
    "*This is a template for part 2 of the lab. Clearly write your answers, comments and interpretations in Markodown cells. Don't forget that you can add $\\LaTeX$ equations in these cells. Feel free to add or remove any cell.*\n",
    "\n",
    "*Please properly comment your code. Code readability will be considered for grading. To avoid long cells of codes in the notebook, you can also embed long python functions and classes in a separate module. Don’t forget to hand in your module if that is the case. In multiple exercises, you are required to come up with your own method to solve various problems. Be creative and clearly motivate and explain your methods. Creativity and clarity will be considered for grading.*"
   ]
  },
  {
   "cell_type": "code",
   "execution_count": 185,
   "metadata": {
    "collapsed": true
   },
   "outputs": [],
   "source": [
    "import pickle\n",
    "import numpy as np\n",
    "from scipy.sparse.linalg import svds\n",
    "from scipy import load, sparse\n",
    "from utils import load_json, load_pkl"
   ]
  },
  {
   "cell_type": "code",
   "execution_count": 186,
   "metadata": {},
   "outputs": [],
   "source": [
    "import pickle\n",
    "\n",
    "with open('data/wordsIdx.pickle', 'rb') as handle:\n",
    "    wordsIdx = pickle.load(handle)\n",
    "with open('data/coursesIdx.pickle', 'rb') as handle:\n",
    "    coursesIdx = pickle.load(handle)\n",
    "with open('data/idxWords.pickle', 'rb') as handle:\n",
    "    idxWords = pickle.load(handle)\n",
    "with open('data/idxCourses.pickle', 'rb') as handle:\n",
    "    idxCourses = pickle.load(handle)\n",
    "courses = load_json('data/courses.txt')"
   ]
  },
  {
   "cell_type": "code",
   "execution_count": 187,
   "metadata": {},
   "outputs": [],
   "source": [
    "TFIDF = sparse.load_npz(\"data/TFIDF.npz\")"
   ]
  },
  {
   "cell_type": "markdown",
   "metadata": {},
   "source": [
    "## Exercise 4.4: Latent semantic indexing"
   ]
  },
  {
   "cell_type": "code",
   "execution_count": 188,
   "metadata": {
    "scrolled": true
   },
   "outputs": [],
   "source": [
    "U, S, Vt = svds(TFIDF, k=300)"
   ]
  },
  {
   "cell_type": "code",
   "execution_count": 189,
   "metadata": {},
   "outputs": [
    {
     "data": {
      "text/plain": [
       "(300, 854)"
      ]
     },
     "execution_count": 189,
     "metadata": {},
     "output_type": "execute_result"
    }
   ],
   "source": [
    "Vt.shape"
   ]
  },
  {
   "cell_type": "markdown",
   "metadata": {},
   "source": [
    "The rows in U are the topic distribution of a word.<br>\n",
    "The rows in V are the topic distribution of the courses.<br>\n",
    "The eigenvalues in S describe how important a topic is within a corpus."
   ]
  },
  {
   "cell_type": "code",
   "execution_count": 190,
   "metadata": {},
   "outputs": [
    {
     "name": "stdout",
     "output_type": "stream",
     "text": [
      "Top 20 eigenvalues:\n",
      "[ 61.35243133  51.44264116  48.31807753  39.9855274   37.95878698\n",
      "  36.03210315  35.17925363  34.7430648   34.32952171  33.49450045\n",
      "  32.97041157  32.68043096  32.2246354   31.5077868   31.21793785\n",
      "  30.42262433  30.32133598  29.83256487  29.75958445  29.23623875]\n"
     ]
    }
   ],
   "source": [
    "print('Top 20 eigenvalues:')\n",
    "print(S[:-21:-1])"
   ]
  },
  {
   "cell_type": "markdown",
   "metadata": {},
   "source": [
    "## Exercise 4.5: Topic extraction"
   ]
  },
  {
   "cell_type": "code",
   "execution_count": 191,
   "metadata": {
    "scrolled": true
   },
   "outputs": [],
   "source": [
    "topWordsPerTopic = np.argsort(-U[:, :-11:-1].T)[:,:10]\n",
    "topCoursesPerTopic = np.argsort(-Vt[:-11:-1])[:,:10]"
   ]
  },
  {
   "cell_type": "code",
   "execution_count": 197,
   "metadata": {
    "collapsed": true
   },
   "outputs": [],
   "source": [
    "labels = ['Semester project', 'Research project', 'Bio labs', 'Research project', 'Nanobiology', 'PhD', 'Chemistry', 'Microscopy', 'Conference', 'Electrical engineering']"
   ]
  },
  {
   "cell_type": "code",
   "execution_count": 198,
   "metadata": {
    "scrolled": false
   },
   "outputs": [
    {
     "name": "stdout",
     "output_type": "stream",
     "text": [
      "\n",
      "Topic 1 Eigenvalue: 61.3524313251\n",
      "Top words                               Top courses                             \n",
      "0.095087  report                        0.257114  Project in computer science II\n",
      "0.093745  research                      0.231480  Lab immersion III             \n",
      "0.092791  data                          0.180830  Lab immersion I               \n",
      "0.088504  scientific                    0.152012  Optional project in computer science\n",
      "0.084590  presentation                  0.139024  Project in bioengineering and biosciences\n",
      "0.079975  problem                       0.132726  Lab immersion II              \n",
      "0.074883  oral                          0.119601  Semester project in Bioengineering\n",
      "0.074724  literature                    0.108973  Optional project in communication systems\n",
      "0.072443  plan                          0.104406  Renewable energy and solar architecture in Davos\n",
      "0.072113  oral presentation             0.099614  Nanobiotechnology and biophysics\n",
      "\n",
      "Label: Semester project\n",
      "----------------------------------------------------------------------------------------------------\n",
      "\n",
      "Topic 2 Eigenvalue: 51.4426411575\n",
      "Top words                               Top courses                             \n",
      "0.229473  guidance assistant            0.707507  Project in computer science II\n",
      "0.208595  guidance                      0.409648  Optional project in computer science\n",
      "0.170803  assistant content             0.330716  Optional project in communication systems\n",
      "0.170803  end organize                  0.066434  Project in information technologies\n",
      "0.170803  progress projectpresent       0.065710  Project in micro and nanoelectronics\n",
      "0.170803  proposed web                  0.046714  Research project in materials I\n",
      "0.170803  organize projectassess        0.046714  Specialisation project in materials\n",
      "0.170803  theme proposed                0.046484  Lab immersion III             \n",
      "0.170803  subject chosen                0.045866  Research project in materials II\n",
      "0.170803  chosen theme                  0.035994  Lab immersion I               \n",
      "\n",
      "Label: Research project\n",
      "----------------------------------------------------------------------------------------------------\n",
      "\n",
      "Topic 3 Eigenvalue: 48.3180775284\n",
      "Top words                               Top courses                             \n",
      "0.143546  wetlab                        0.530726  Lab immersion III             \n",
      "0.141339  experimentation               0.409080  Lab immersion I               \n",
      "0.118422  obtained                      0.304508  Lab immersion II              \n",
      "0.104062  experimentation data          0.268929  Project in bioengineering and biosciences\n",
      "0.100014  laboratorybased               0.257474  Semester project in Bioengineering\n",
      "0.097970  wetlab computational          0.114711  Lab immersion in industry B   \n",
      "0.095931  obtained wetlab               0.114504  Lab immersion in industry A   \n",
      "0.092136  molecular medicine            0.114038  Lab immersion academic (outside EPFL) A\n",
      "0.089516  ou                            0.110613  Lab immersion academic (outside EPFL) B\n",
      "0.089516  semaines                      0.090107  Project in neuroprosthetics   \n",
      "\n",
      "Label: Bio labs\n",
      "----------------------------------------------------------------------------------------------------\n",
      "\n",
      "Topic 4 Eigenvalue: 39.985527398\n",
      "Top words                               Top courses                             \n",
      "0.060733  guidance assistant            0.179358  Lab immersion III             \n",
      "0.055229  guidance                      0.135695  Lab immersion I               \n",
      "0.054999  wetlab                        0.128286  Project in computer science II\n",
      "0.053957  experimentation               0.094856  Lab immersion II              \n",
      "0.048016  written report                0.086659  Optional project in communication systems\n",
      "0.046805  obtained                      0.082908  Optional project in computer science\n",
      "0.043445  chosen theme                  0.075439  Project in bioengineering and biosciences\n",
      "0.043445  organize projectassess        0.069619  Semester project in Bioengineering\n",
      "0.043445  proposed web                  0.032972  Lab immersion in industry B   \n",
      "0.043445  theme proposed                0.030974  Lab immersion academic (outside EPFL) B\n",
      "\n",
      "Label: Research project\n",
      "----------------------------------------------------------------------------------------------------\n",
      "\n",
      "Topic 5 Eigenvalue: 37.9587869797\n",
      "Top words                               Top courses                             \n",
      "0.159618  cell                          0.213717  Nanobiotechnology and biophysics\n",
      "0.139426  microscopy                    0.199293  Nanofabrication with focused electron and ion beam\n",
      "0.137631  electron                      0.190734  Scanning electron microscopy techniques (b)\n",
      "0.116898  sem                           0.190734  Scanning electron microscopy techniques (a)\n",
      "0.093850  microscope                    0.154414  Practical - Constam Lab       \n",
      "0.093152  protein                       0.153789  Recent Events in Energy-1     \n",
      "0.087639  doctoral                      0.148623  Interdisciplinary / disciplinary project for chemi\n",
      "0.086808  edms                          0.135852  Introduction to scanning electron microscopy micro\n",
      "0.084910  spectroscopy                  0.127808  CCMX Winter School - Metal Science\n",
      "0.084515  imaging                       0.115152  Advanced materials for photovoltaics and lighting\n",
      "\n",
      "Label: Nanobiology\n",
      "----------------------------------------------------------------------------------------------------\n",
      "\n",
      "Topic 6 Eigenvalue: 36.0321031501\n",
      "Top words                               Top courses                             \n",
      "0.154156  edms                          0.226970  Practical - Constam Lab       \n",
      "0.149075  cell                          0.194062  Recent Events in Energy-1     \n",
      "0.138594  doctoral                      0.161993  Practical - Radtke Lab        \n",
      "0.103278  note                          0.158525  Practical - Fellay Lab        \n",
      "0.089816  epfl                          0.152186  Practical - Trono Lab         \n",
      "0.088635  development                   0.144550  Practical - Simanis Lab       \n",
      "0.082485  biology                       0.142227  Recent Events in Energy-2     \n",
      "0.082442  priority                      0.136137  Practical - Lemaitre Lab      \n",
      "0.080173  doctoral priority             0.133410  Practical - Naef Lab          \n",
      "0.080173  epfl doctoral                 0.132444  Practical - Gönczy Lab        \n",
      "\n",
      "Label: PhD\n",
      "----------------------------------------------------------------------------------------------------\n",
      "\n",
      "Topic 7 Eigenvalue: 35.1792536289\n",
      "Top words                               Top courses                             \n",
      "0.124503  energy                        0.333922  Recent Events in Energy-1     \n",
      "0.111033  seminar                       0.228672  Recent Events in Energy-2     \n",
      "0.089156  invited                       0.182133  CCMX Winter School - Metal Science\n",
      "0.086486  material                      0.135355  CCMX Winter School - Additive Manufacturing of Met\n",
      "0.083615  metal                         0.109030  Atmospheric Boundary Layer    \n",
      "0.082456  speaker                       0.089648  Advanced materials for photovoltaics and lighting\n",
      "0.082222  sion                          0.084362  Interdisciplinary / disciplinary project for chemi\n",
      "0.076142  chemistry                     0.082839  General physics (English) II  \n",
      "0.074640  talk                          0.074426  Semiconductor physics and fundamentals of electron\n",
      "0.069413  scientist                     0.070708  Renewable energy and solar architecture in Davos\n",
      "\n",
      "Label: Chemistry\n",
      "----------------------------------------------------------------------------------------------------\n",
      "\n",
      "Topic 8 Eigenvalue: 34.7430648025\n",
      "Top words                               Top courses                             \n",
      "0.105632  electrical electronic         0.321780  Project in micro and nanoelectronics\n",
      "0.105632  electronic engineering        0.285287  Project in information technologies\n",
      "0.102043  sem                           0.235890  Project in Electrical Energy Systems\n",
      "0.099086  section                       0.194945  Renewable energy and solar architecture in Davos\n",
      "0.075711  electron                      0.174407  Scanning electron microscopy techniques (b)\n",
      "0.075268  microscope                    0.174407  Scanning electron microscopy techniques (a)\n",
      "0.072346  electrical                    0.145306  Principles of finance         \n",
      "0.070075  interdisciplinary             0.128350  Nanofabrication with focused electron and ion beam\n",
      "0.067818  scanning electron             0.115594  Introduction to finance (IF master and minor only)\n",
      "0.063324  acquired skill                0.080433  Studio MA2 (Escher et GuneWardena)\n",
      "\n",
      "Label: Microscopy\n",
      "----------------------------------------------------------------------------------------------------\n",
      "\n",
      "Topic 9 Eigenvalue: 34.329521712\n",
      "Top words                               Top courses                             \n",
      "0.128796  seminar                       0.384775  Recent Events in Energy-1     \n",
      "0.109081  invited                       0.274236  Recent Events in Energy-2     \n",
      "0.108369  financial                     0.190800  Scanning electron microscopy techniques (a)\n",
      "0.103026  speaker                       0.190800  Scanning electron microscopy techniques (b)\n",
      "0.102407  sem                           0.158924  Project in Biotechnology      \n",
      "0.100882  research                      0.153747  Introduction to finance (IF master and minor only)\n",
      "0.098651  sion                          0.151269  Principles of finance         \n",
      "0.095785  talk                          0.107009  Project in biomedical technologies\n",
      "0.085993  form scientific               0.104178  Advanced topics in financial econometrics\n",
      "0.079973  finance                       0.096228  Nanofabrication with focused electron and ion beam\n",
      "\n",
      "Label: Conference\n",
      "----------------------------------------------------------------------------------------------------\n",
      "\n",
      "Topic 10 Eigenvalue: 33.4945004501\n",
      "Top words                               Top courses                             \n",
      "0.088633  sensor                        0.206357  Nanobiotechnology and biophysics\n",
      "0.086517  device                        0.116979  Scientific project design in translational neurosc\n",
      "0.083800  optical                       0.115304  Renewable energy and solar architecture in Davos\n",
      "0.078889  circuit                       0.104291  Project in Biotechnology      \n",
      "0.070994  architecture                  0.097988  Advanced materials for photovoltaics and lighting\n",
      "0.066954  drug                          0.087502  Studio MA2 (Escher et GuneWardena)\n",
      "0.063019  semiconductor                 0.085639  Biomedical optics             \n",
      "0.060656  design                        0.081389  Interdisciplinary / disciplinary project for chemi\n",
      "0.059996  nanobiotechnological          0.079385  Microelectronics              \n",
      "0.057308  transistor                    0.075901  Semiconductor physics and fundamentals of electron\n",
      "\n",
      "Label: Electrical engineering\n",
      "----------------------------------------------------------------------------------------------------\n"
     ]
    }
   ],
   "source": [
    "dash = '-' * 100\n",
    "for t in range(10):\n",
    "    print('\\nTopic', t+1, 'Eigenvalue:', S[-t-1])\n",
    "    print('{:<40s}{:<40s}'.format('Top words', 'Top courses'))\n",
    "    for i in range(10):\n",
    "        print('{:<10f}{:<30s}{:<10f}{:<30s}'.format(U[topWordsPerTopic[t][i], -t-1], idxWords[topWordsPerTopic[t][i]],\\\n",
    "                                       Vt[-t-1, topCoursesPerTopic[t][i]], courses[topCoursesPerTopic[t][i]]['name'][:50]))\n",
    "    print('\\nLabel:', labels[t])\n",
    "    print(dash)"
   ]
  },
  {
   "cell_type": "markdown",
   "metadata": {},
   "source": [
    "## Exercise 4.6: Document similarity search in concept-space"
   ]
  },
  {
   "cell_type": "code",
   "execution_count": 213,
   "metadata": {},
   "outputs": [],
   "source": [
    "def sim(t, d):\n",
    "    return (U[t] @ (S * Vt.T[d])) / (np.linalg.norm(U[t]) * np.linalg.norm(S * Vt.T[d]))"
   ]
  },
  {
   "cell_type": "code",
   "execution_count": 216,
   "metadata": {},
   "outputs": [],
   "source": [
    "markov = [sim(wordsIdx['markov chain'], d) for d in idxCourses]\n",
    "facebook = [sim(wordsIdx['facebook'], d) for d in idxCourses]"
   ]
  },
  {
   "cell_type": "code",
   "execution_count": 228,
   "metadata": {},
   "outputs": [
    {
     "name": "stdout",
     "output_type": "stream",
     "text": [
      "Best courses for markov chain:\n",
      "0.893 Markov chains and algorithmic applications\n",
      "0.781 Applied probability & stochastic processes\n",
      "0.707 Applied stochastic processes\n",
      "0.357 Networks out of control\n",
      "0.331 Advanced probability and applications\n",
      "\n",
      "Best courses for facebook:\n",
      "0.941 Computational Social Media\n",
      "0.693 Social media\n",
      "0.375 How people learn I\n",
      "0.285 Internet analytics\n",
      "0.281 Media security\n"
     ]
    },
    {
     "data": {
      "text/plain": [
       "[None, None, None, None, None]"
      ]
     },
     "execution_count": 228,
     "metadata": {},
     "output_type": "execute_result"
    }
   ],
   "source": [
    "topMarkov = [(markov[c], courses[c]['name']) for c in np.argsort(markov)[:-6:-1]]\n",
    "topFacebook = [(facebook[c], courses[c]['name']) for c in np.argsort(facebook)[:-6:-1]]\n",
    "print('Best courses for markov chain:')\n",
    "[print('%.3f %s'%(x, y)) for x,y in topMarkov]\n",
    "\n",
    "print('\\nBest courses for facebook:')\n",
    "[print('%.3f %s'%(x, y)) for x,y in topFacebook]\n"
   ]
  },
  {
   "cell_type": "markdown",
   "metadata": {},
   "source": [
    "## Exercise 4.7: Document-document similarity"
   ]
  },
  {
   "cell_type": "code",
   "execution_count": 229,
   "metadata": {},
   "outputs": [],
   "source": [
    "def simDocs(i, j):\n",
    "    di = Vt.T[i]\n",
    "    dj = Vt.T[j]\n",
    "    return (di @ dj) / (np.linalg.norm(di) * np.linalg.norm(dj))"
   ]
  },
  {
   "cell_type": "code",
   "execution_count": 231,
   "metadata": {},
   "outputs": [
    {
     "name": "stdout",
     "output_type": "stream",
     "text": [
      "Most similar courses to Internet Analytics:\n",
      "0.541 Distributed information systems\n",
      "0.331 Financial big data\n",
      "0.329 Applied data analysis\n",
      "0.291 Computational Social Media\n",
      "0.264 A Network Tour of Data Science\n"
     ]
    },
    {
     "data": {
      "text/plain": [
       "[None, None, None, None, None]"
      ]
     },
     "execution_count": 231,
     "metadata": {},
     "output_type": "execute_result"
    }
   ],
   "source": [
    "ix = [simDocs(coursesIdx['COM-308'], c) for c in idxCourses]\n",
    "topIx = [(ix[c], courses[c]['name']) for c in np.argsort(ix)[:-7:-1]]\n",
    "print('Most similar courses to Internet Analytics:')\n",
    "[print('%.3f %s'%(x, y)) for x,y in topIx[1:]]"
   ]
  },
  {
   "cell_type": "code",
   "execution_count": null,
   "metadata": {
    "collapsed": true
   },
   "outputs": [],
   "source": []
  }
 ],
 "metadata": {
  "kernelspec": {
   "display_name": "Python 3",
   "language": "python",
   "name": "python3"
  },
  "language_info": {
   "codemirror_mode": {
    "name": "ipython",
    "version": 3
   },
   "file_extension": ".py",
   "mimetype": "text/x-python",
   "name": "python",
   "nbconvert_exporter": "python",
   "pygments_lexer": "ipython3",
   "version": "3.6.3"
  }
 },
 "nbformat": 4,
 "nbformat_minor": 2
}
